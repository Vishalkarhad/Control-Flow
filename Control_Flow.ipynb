{
  "cells": [
    {
      "cell_type": "markdown",
      "id": "b8af334d-1a93-4439-a532-837e34541f98",
      "metadata": {
        "id": "b8af334d-1a93-4439-a532-837e34541f98"
      },
      "source": [
        "Basic If-Else Statements:\n",
        "\n",
        "\n",
        "\n",
        "1. Write a Python program to check if a given number is positive or negative."
      ]
    },
    {
      "cell_type": "code",
      "execution_count": null,
      "id": "d9a31e86-5364-4160-bc57-2a87a20cc1ab",
      "metadata": {
        "id": "d9a31e86-5364-4160-bc57-2a87a20cc1ab",
        "outputId": "a439e653-53e4-4823-bcbe-9480579e2da0"
      },
      "outputs": [
        {
          "name": "stdin",
          "output_type": "stream",
          "text": [
            "Enter any number here : 9\n"
          ]
        },
        {
          "name": "stdout",
          "output_type": "stream",
          "text": [
            "your number :9 is POSITIVE\n"
          ]
        }
      ],
      "source": [
        "a=int(input(\"Enter any number here :\"))\n",
        "if a<0:\n",
        "    print(f\"your number :{a} is NEGATIVE\")\n",
        "else:\n",
        "    print(f\"your number :{a} is POSITIVE\")"
      ]
    },
    {
      "cell_type": "markdown",
      "id": "ec204b79-5a5a-4efe-a8f1-d4f63feed7f4",
      "metadata": {
        "id": "ec204b79-5a5a-4efe-a8f1-d4f63feed7f4"
      },
      "source": [
        "2. Create a program that determines if a person is eligible to vote based on their age."
      ]
    },
    {
      "cell_type": "code",
      "execution_count": null,
      "id": "15a7e302-a727-4b62-bf45-0fdae302cfbb",
      "metadata": {
        "id": "15a7e302-a727-4b62-bf45-0fdae302cfbb",
        "outputId": "fa5428a9-5ad6-40b9-b589-299693f231c2"
      },
      "outputs": [
        {
          "name": "stdin",
          "output_type": "stream",
          "text": [
            "Enter your age 78\n"
          ]
        },
        {
          "name": "stdout",
          "output_type": "stream",
          "text": [
            "you are eligiable for vote based on your ages\n"
          ]
        }
      ],
      "source": [
        "age=int(input(\"Enter your age\"))\n",
        "if age>=18:\n",
        "    print('you are eligiable for vote based on your ages')\n",
        "else:\n",
        "    print(\"you are under age\")"
      ]
    },
    {
      "cell_type": "markdown",
      "id": "4389b20e-5a52-4663-834a-a84f07922b8f",
      "metadata": {
        "id": "4389b20e-5a52-4663-834a-a84f07922b8f"
      },
      "source": [
        "3. Develop a program to find the maximum of two numbers using if-else statements."
      ]
    },
    {
      "cell_type": "code",
      "execution_count": null,
      "id": "89b3c7cd-8e9a-4776-a6e6-1b2ef736d3e8",
      "metadata": {
        "id": "89b3c7cd-8e9a-4776-a6e6-1b2ef736d3e8",
        "outputId": "5887af36-eb8e-490c-c355-0ed19c5072a9"
      },
      "outputs": [
        {
          "name": "stdin",
          "output_type": "stream",
          "text": [
            "enter your first 8\n",
            "enter your first 43\n"
          ]
        },
        {
          "name": "stdout",
          "output_type": "stream",
          "text": [
            "43 is a maximum number\n"
          ]
        }
      ],
      "source": [
        "a=int(input(\"enter your first\"))\n",
        "b=int(input(\"enter your first\"))\n",
        "if a>b:\n",
        "    print(f\"{a} is a maximum number\")\n",
        "else:\n",
        "    print(f\"{b} is a maximum number\")"
      ]
    },
    {
      "cell_type": "markdown",
      "id": "64bfd12c-d534-443f-9019-534140fcd016",
      "metadata": {
        "id": "64bfd12c-d534-443f-9019-534140fcd016"
      },
      "source": [
        "4. Write a Python script to classify a given year as a leap year or not"
      ]
    },
    {
      "cell_type": "code",
      "execution_count": null,
      "id": "1b63f5fe-ecca-4099-8b46-364f30b67f85",
      "metadata": {
        "id": "1b63f5fe-ecca-4099-8b46-364f30b67f85",
        "outputId": "29568049-47eb-4740-a3b7-2c9d0934d319"
      },
      "outputs": [
        {
          "name": "stdin",
          "output_type": "stream",
          "text": [
            "Enter a year:  2424\n"
          ]
        },
        {
          "name": "stdout",
          "output_type": "stream",
          "text": [
            "2424 is a leap year.\n"
          ]
        }
      ],
      "source": [
        "def is_leap_year(year):\n",
        "    if (year % 4 == 0 and year % 100 != 0) or (year % 400 == 0):\n",
        "        return True\n",
        "    else:\n",
        "        return False\n",
        "\n",
        "year = int(input(\"Enter a year: \"))\n",
        "\n",
        "if is_leap_year(year):\n",
        "    print(f\"{year} is a leap year.\")\n",
        "else:\n",
        "    print(f\"{year} is not a leap year.\")"
      ]
    },
    {
      "cell_type": "markdown",
      "id": "c45e6583-e1f6-4015-a618-eb4c0cef8966",
      "metadata": {
        "id": "c45e6583-e1f6-4015-a618-eb4c0cef8966"
      },
      "source": [
        "5. Create a program that checks whether a character is a vowel or a consonant."
      ]
    },
    {
      "cell_type": "code",
      "execution_count": null,
      "id": "07446d7c-be81-4ec3-a220-a443c871c3d5",
      "metadata": {
        "id": "07446d7c-be81-4ec3-a220-a443c871c3d5",
        "outputId": "8cf1dc1a-1896-4dd6-ea37-b31fa3db12d1"
      },
      "outputs": [
        {
          "name": "stdin",
          "output_type": "stream",
          "text": [
            "enter your single alphabet character r\n"
          ]
        },
        {
          "name": "stdout",
          "output_type": "stream",
          "text": [
            "string contain consonant\n"
          ]
        }
      ],
      "source": [
        "string=input(\"enter your single alphabet character\")\n",
        "vowel=\"aeiouAEIOU\"\n",
        "for char in vowel:\n",
        "    if char == string:\n",
        "        print(\"string contain vowel\")\n",
        "else:\n",
        "        print(\"string contain consonant\")"
      ]
    },
    {
      "cell_type": "markdown",
      "id": "7a3091ba-738c-45c9-b055-8cd7654b5b43",
      "metadata": {
        "id": "7a3091ba-738c-45c9-b055-8cd7654b5b43"
      },
      "source": [
        "6. Implement a program to determine whether a given number is even or odd."
      ]
    },
    {
      "cell_type": "code",
      "execution_count": null,
      "id": "0f60e668-0dd8-49b7-a2c8-047ddd6261ee",
      "metadata": {
        "id": "0f60e668-0dd8-49b7-a2c8-047ddd6261ee",
        "outputId": "0e0f3dd1-6557-42fc-8ea4-93cf601d4c24"
      },
      "outputs": [
        {
          "name": "stdin",
          "output_type": "stream",
          "text": [
            "enter any number Here:  7\n"
          ]
        },
        {
          "name": "stdout",
          "output_type": "stream",
          "text": [
            "Give number7 is ODD\n"
          ]
        }
      ],
      "source": [
        "num=int(input(\"enter any number Here: \"))\n",
        "if num%2==0:\n",
        "    print(f\"Give number {num} is EVEN\")\n",
        "else:\n",
        "    print(f\"Give number{num} is ODD\")"
      ]
    },
    {
      "cell_type": "markdown",
      "id": "ced4126a-2a23-4541-84cb-7c50b3d622b1",
      "metadata": {
        "id": "ced4126a-2a23-4541-84cb-7c50b3d622b1"
      },
      "source": [
        "7. Write a Python function to calculate the absolute value of a number without using the `abs()` function."
      ]
    },
    {
      "cell_type": "code",
      "execution_count": null,
      "id": "8b6cc370-f1e8-416f-bade-ff3f69d5cd51",
      "metadata": {
        "id": "8b6cc370-f1e8-416f-bade-ff3f69d5cd51",
        "outputId": "37c94d9a-a326-487a-9978-9dcffd97066f"
      },
      "outputs": [
        {
          "name": "stdin",
          "output_type": "stream",
          "text": [
            "enter a Number 65\n"
          ]
        },
        {
          "name": "stdout",
          "output_type": "stream",
          "text": [
            "the absoluate value of 65.0 is 65.0\n"
          ]
        }
      ],
      "source": [
        "num=float(input(\"enter a Number\"))\n",
        "if num <=0:\n",
        "    number= -num\n",
        "else:\n",
        "    number=num\n",
        "\n",
        "print(f\"the absoluate value of {num} is {number}\")"
      ]
    },
    {
      "cell_type": "markdown",
      "id": "22f65ddf-8489-47ba-8707-78d6291c59d0",
      "metadata": {
        "id": "22f65ddf-8489-47ba-8707-78d6291c59d0"
      },
      "source": [
        "8. Develop a program that determines the largest of three given numbers using if-else statements.\n",
        "\n"
      ]
    },
    {
      "cell_type": "code",
      "execution_count": null,
      "id": "8c254cdf-5219-4d85-bf8d-13b468cee0d9",
      "metadata": {
        "id": "8c254cdf-5219-4d85-bf8d-13b468cee0d9",
        "outputId": "2ec2bdee-56f8-4f07-ccc6-30156fa7a533"
      },
      "outputs": [
        {
          "name": "stdin",
          "output_type": "stream",
          "text": [
            "Enter the first number:  2\n",
            "Enter the second number:  5\n",
            "Enter the third number:  7\n"
          ]
        },
        {
          "name": "stdout",
          "output_type": "stream",
          "text": [
            "The largest number among 2.0, 5.0, and 7.0 is: 7.0\n"
          ]
        }
      ],
      "source": [
        "num1 = float(input(\"Enter the first number: \"))\n",
        "num2 = float(input(\"Enter the second number: \"))\n",
        "num3 = float(input(\"Enter the third number: \"))\n",
        "\n",
        "if num1 >= num2 and num1 >= num3:\n",
        "    largest = num1\n",
        "elif num2 >= num1 and num2 >= num3:\n",
        "    largest = num2\n",
        "else:\n",
        "    largest = num3\n",
        "\n",
        "print(f\"The largest number among {num1}, {num2}, and {num3} is: {largest}\")\n"
      ]
    },
    {
      "cell_type": "markdown",
      "id": "4dce8afe-e5c1-43d6-92e5-4c1ee208a5ff",
      "metadata": {
        "id": "4dce8afe-e5c1-43d6-92e5-4c1ee208a5ff"
      },
      "source": [
        "9. Create a program that checks if a given string is a palindrome."
      ]
    },
    {
      "cell_type": "code",
      "execution_count": null,
      "id": "d9563eaa-eda6-486c-aa94-ba716e91705a",
      "metadata": {
        "id": "d9563eaa-eda6-486c-aa94-ba716e91705a",
        "outputId": "f0894e2d-ee22-4f7d-99ef-97aba224e9fc"
      },
      "outputs": [
        {
          "name": "stdin",
          "output_type": "stream",
          "text": [
            "Enter your string vishal\n"
          ]
        },
        {
          "name": "stdout",
          "output_type": "stream",
          "text": [
            "string is not palidrome\n"
          ]
        }
      ],
      "source": [
        "string=input(\"Enter your string\")\n",
        "reverse_string=string[::-1]\n",
        "if string==reverse_string :\n",
        "    print(\"string is palindrome\")\n",
        "else:\n",
        "    print(\"string is not palidrome\")"
      ]
    },
    {
      "cell_type": "markdown",
      "id": "15f1cc91-c108-4cdd-818b-d9460a0941bb",
      "metadata": {
        "id": "15f1cc91-c108-4cdd-818b-d9460a0941bb"
      },
      "source": [
        "10. Write a Python program to calculate the grade based on a student's score."
      ]
    },
    {
      "cell_type": "code",
      "execution_count": null,
      "id": "f7b2e9ef-fa7c-4669-8a2a-7c0585f6d350",
      "metadata": {
        "id": "f7b2e9ef-fa7c-4669-8a2a-7c0585f6d350",
        "outputId": "dc1a202e-122a-4ea7-88ef-35aab83fef3f"
      },
      "outputs": [
        {
          "name": "stdin",
          "output_type": "stream",
          "text": [
            "Enter the student's score:  90\n"
          ]
        },
        {
          "name": "stdout",
          "output_type": "stream",
          "text": [
            "The student's grade is: A\n"
          ]
        }
      ],
      "source": [
        "def calculate_grade(score):\n",
        "    if 90 <= score <= 100:\n",
        "        return \"A\"\n",
        "    elif 80 <= score < 90:\n",
        "        return \"B\"\n",
        "    elif 70 <= score < 80:\n",
        "        return \"C\"\n",
        "    elif 60 <= score < 70:\n",
        "        return \"D\"\n",
        "    elif 0 <= score < 60:\n",
        "        return \"F\"\n",
        "    else:\n",
        "        return \"Invalid score (score should be between 0 and 100)\"\n",
        "\n",
        "score = float(input(\"Enter the student's score: \"))\n",
        "grade = calculate_grade(score)\n",
        "print(f\"The student's grade is: {grade}\")\n"
      ]
    },
    {
      "cell_type": "markdown",
      "id": "6ff1f3d7-0910-41ca-a568-00e4e8fea917",
      "metadata": {
        "id": "6ff1f3d7-0910-41ca-a568-00e4e8fea917"
      },
      "source": [
        "Nested If-Else Statements:\n",
        "\n",
        "\n",
        "\n",
        "11. Write a program to find the largest among three numbers using nested if-else statements."
      ]
    },
    {
      "cell_type": "code",
      "execution_count": null,
      "id": "a75e3338-cde0-4506-996e-82fc11d79548",
      "metadata": {
        "id": "a75e3338-cde0-4506-996e-82fc11d79548",
        "outputId": "0b62e698-bc83-40df-ada7-b3e27793683e"
      },
      "outputs": [
        {
          "name": "stdin",
          "output_type": "stream",
          "text": [
            "Enter the first number:  5\n",
            "Enter the second number:  6\n",
            "Enter the third number:  8\n"
          ]
        },
        {
          "name": "stdout",
          "output_type": "stream",
          "text": [
            "The largest number among 5.0, 6.0, and 8.0 is: 8.0\n"
          ]
        }
      ],
      "source": [
        "num1 = float(input(\"Enter the first number: \"))\n",
        "num2 = float(input(\"Enter the second number: \"))\n",
        "num3 = float(input(\"Enter the third number: \"))\n",
        "\n",
        "if num1 >= num2:\n",
        "    if num1 >= num3:\n",
        "        largest = num1\n",
        "    else:\n",
        "        largest = num3\n",
        "else:\n",
        "    if num2 >= num3:\n",
        "        largest = num2\n",
        "    else:\n",
        "        largest = num3\n",
        "\n",
        "print(f\"The largest number among {num1}, {num2}, and {num3} is: {largest}\")\n"
      ]
    },
    {
      "cell_type": "markdown",
      "id": "e4da77de-d78d-45f2-85c4-e7ed185cd52b",
      "metadata": {
        "id": "e4da77de-d78d-45f2-85c4-e7ed185cd52b"
      },
      "source": [
        "12. Implement a program to determine if a triangle is equilateral, isosceles, or scalene."
      ]
    },
    {
      "cell_type": "code",
      "execution_count": null,
      "id": "b137385c-fd73-4c7a-bd64-69db5108396e",
      "metadata": {
        "id": "b137385c-fd73-4c7a-bd64-69db5108396e",
        "outputId": "f59223a6-52cd-41d2-9012-950138026ff1"
      },
      "outputs": [
        {
          "name": "stdin",
          "output_type": "stream",
          "text": [
            "Enter the length of the first side:  8\n",
            "Enter the length of the second side:  8\n",
            "Enter the length of the third side:  8\n"
          ]
        },
        {
          "name": "stdout",
          "output_type": "stream",
          "text": [
            "The triangle with side lengths 8.0, 8.0, and 8.0 is a(n) Equilateral triangle.\n"
          ]
        }
      ],
      "source": [
        "side1 = float(input(\"Enter the length of the first side: \"))\n",
        "side2 = float(input(\"Enter the length of the second side: \"))\n",
        "side3 = float(input(\"Enter the length of the third side: \"))\n",
        "\n",
        "if side1 == side2 == side3:\n",
        "    triangle_type = \"Equilateral\"\n",
        "elif side1 == side2 or side1 == side3 or side2 == side3:\n",
        "    triangle_type = \"Isosceles\"\n",
        "else:\n",
        "    triangle_type = \"Scalene\"\n",
        "\n",
        "print(f\"The triangle with side lengths {side1}, {side2}, and {side3} is a(n) {triangle_type} triangle.\")\n"
      ]
    },
    {
      "cell_type": "markdown",
      "id": "2219a683-f597-4ae2-8cc0-28510e0e7fb7",
      "metadata": {
        "id": "2219a683-f597-4ae2-8cc0-28510e0e7fb7"
      },
      "source": [
        "13. Develop a program that checks if a year is a leap year and also if it is a century year."
      ]
    },
    {
      "cell_type": "code",
      "execution_count": null,
      "id": "51a12489-f91c-4e04-82fd-216b7d25cdc8",
      "metadata": {
        "id": "51a12489-f91c-4e04-82fd-216b7d25cdc8",
        "outputId": "94c3b04e-9895-4652-8ed2-834c1c7bf0e6"
      },
      "outputs": [
        {
          "name": "stdin",
          "output_type": "stream",
          "text": [
            "Enter a year 2024\n"
          ]
        },
        {
          "name": "stdout",
          "output_type": "stream",
          "text": [
            "2024 is leap year\n"
          ]
        }
      ],
      "source": [
        "year=int(input(\"Enter a year\"))\n",
        "if year%4==0 or year%400:\n",
        "    print(f\"{year} is leap year\")\n",
        "else:\n",
        "    print(f\"{year} is not leap year\")"
      ]
    },
    {
      "cell_type": "markdown",
      "id": "cff2e34d-d045-4cf1-83f4-0c7ad562f525",
      "metadata": {
        "id": "cff2e34d-d045-4cf1-83f4-0c7ad562f525"
      },
      "source": [
        "14. Write a Python script to determine if a number is positive, negative, or zero"
      ]
    },
    {
      "cell_type": "code",
      "execution_count": null,
      "id": "46317078-45f0-484c-8c79-7f807272fbeb",
      "metadata": {
        "id": "46317078-45f0-484c-8c79-7f807272fbeb",
        "outputId": "b7df7758-8fae-4b76-ea80-534c4dba4a82"
      },
      "outputs": [
        {
          "name": "stdin",
          "output_type": "stream",
          "text": [
            "Enter a number 8\n"
          ]
        },
        {
          "name": "stdout",
          "output_type": "stream",
          "text": [
            "8 you Enter number is POSITIVE\n"
          ]
        }
      ],
      "source": [
        "num1=int(input(\"Enter a number\"))\n",
        "if num1==0:\n",
        "    print(f\"{num1} you Enter number is ZERO\")\n",
        "elif num1<0:\n",
        "    print(f\"{num1} you Enter number is NEGATIVE\")\n",
        "else:\n",
        "     print(f\"{num1} you Enter number is POSITIVE\")"
      ]
    },
    {
      "cell_type": "markdown",
      "id": "f8d6d9ff-4ed5-4c20-a809-6e1fa4dbc96e",
      "metadata": {
        "id": "f8d6d9ff-4ed5-4c20-a809-6e1fa4dbc96e"
      },
      "source": [
        "15. Create a program to check if a person is a teenager (between 13 and 19 years old)"
      ]
    },
    {
      "cell_type": "code",
      "execution_count": null,
      "id": "6cfc5224-487f-465f-9628-b755ae572c52",
      "metadata": {
        "id": "6cfc5224-487f-465f-9628-b755ae572c52",
        "outputId": "46805d5e-4989-4345-a7ab-e84fddd3d401"
      },
      "outputs": [
        {
          "name": "stdin",
          "output_type": "stream",
          "text": [
            "Enter your age:  15\n"
          ]
        },
        {
          "name": "stdout",
          "output_type": "stream",
          "text": [
            "You are a teenager.\n"
          ]
        }
      ],
      "source": [
        "def is_teenager(age):\n",
        "    return 13 <= age <= 19\n",
        "\n",
        "age = int(input(\"Enter your age: \"))\n",
        "\n",
        "if is_teenager(age):\n",
        "    print(\"You are a teenager.\")\n",
        "else:\n",
        "    print(\"You are not a teenager.\")\n"
      ]
    },
    {
      "cell_type": "markdown",
      "id": "7bd7fde3-677f-4222-a44d-a992a2fbfbde",
      "metadata": {
        "id": "7bd7fde3-677f-4222-a44d-a992a2fbfbde"
      },
      "source": [
        "16. Develop a program that determines the type of angle based on its measure (acute, obtuse, or right)."
      ]
    },
    {
      "cell_type": "code",
      "execution_count": null,
      "id": "6571780e-c983-41a0-aed8-eba6751f4f05",
      "metadata": {
        "id": "6571780e-c983-41a0-aed8-eba6751f4f05",
        "outputId": "1e96d03d-c4c0-44e6-c271-aaae69340724"
      },
      "outputs": [
        {
          "name": "stdin",
          "output_type": "stream",
          "text": [
            "Enter the measure of the angle in degrees:  78\n"
          ]
        },
        {
          "name": "stdout",
          "output_type": "stream",
          "text": [
            "The angle is a Acute Angle.\n"
          ]
        }
      ],
      "source": [
        "def angle_type(angle):\n",
        "    if angle < 90:\n",
        "        return \"Acute Angle\"\n",
        "    elif angle == 90:\n",
        "        return \"Right Angle\"\n",
        "    elif angle > 90 and angle < 180:\n",
        "        return \"Obtuse Angle\"\n",
        "    else:\n",
        "        return \"Invalid Angle\"\n",
        "\n",
        "angle = float(input(\"Enter the measure of the angle in degrees: \"))\n",
        "\n",
        "angle_classification = angle_type(angle)\n",
        "\n",
        "if angle_classification == \"Invalid Angle\":\n",
        "    print(\"Invalid input. Please enter an angle measure between 0 and 180 degrees.\")\n",
        "else:\n",
        "    print(f\"The angle is a {angle_classification}.\")\n"
      ]
    },
    {
      "cell_type": "markdown",
      "id": "717af979-094b-4459-bb14-cf79672c1934",
      "metadata": {
        "id": "717af979-094b-4459-bb14-cf79672c1934"
      },
      "source": [
        "17. Write a Python program to calculate the roots of a quadratic equation."
      ]
    },
    {
      "cell_type": "code",
      "execution_count": null,
      "id": "939afe97-f947-4838-acea-d0b75d6c20d1",
      "metadata": {
        "id": "939afe97-f947-4838-acea-d0b75d6c20d1",
        "outputId": "eb35cfc5-743b-45dc-db59-77e7a98f4426"
      },
      "outputs": [
        {
          "name": "stdin",
          "output_type": "stream",
          "text": [
            "Enter the coefficient 'a':  4\n",
            "Enter the coefficient 'b':  8\n",
            "Enter the coefficient 'c':  2\n"
          ]
        },
        {
          "name": "stdout",
          "output_type": "stream",
          "text": [
            "The roots are real and distinct: -0.2928932188134524 and -1.7071067811865475\n"
          ]
        }
      ],
      "source": [
        "import math\n",
        "\n",
        "a = float(input(\"Enter the coefficient 'a': \"))\n",
        "b = float(input(\"Enter the coefficient 'b': \"))\n",
        "c = float(input(\"Enter the coefficient 'c': \"))\n",
        "\n",
        "\n",
        "discriminant = b**2 - 4 * a * c\n",
        "\n",
        "if discriminant > 0:\n",
        "\n",
        "    root1 = (-b + math.sqrt(discriminant)) / (2 * a)\n",
        "    root2 = (-b - math.sqrt(discriminant)) / (2 * a)\n",
        "    print(f\"The roots are real and distinct: {root1} and {root2}\")\n",
        "elif discriminant == 0:\n",
        "\n",
        "    root = -b / (2 * a)\n",
        "    print(f\"The root is real and repeated: {root}\")\n",
        "else:\n",
        "\n",
        "    real_part = -b / (2 * a)\n",
        "    imaginary_part = math.sqrt(abs(discriminant)) / (2 * a)\n",
        "    print(f\"The roots are complex: {real_part} + {imaginary_part}i and {real_part} - {imaginary_part}i\")\n"
      ]
    },
    {
      "cell_type": "markdown",
      "id": "22ccf53c-76b5-4183-ad4e-e97c2c1476d6",
      "metadata": {
        "id": "22ccf53c-76b5-4183-ad4e-e97c2c1476d6"
      },
      "source": [
        "18. Implement a program to determine the day of the week based on a user-provided number (1 for Monday, 2\n",
        "for Tuesday, etc.)."
      ]
    },
    {
      "cell_type": "code",
      "execution_count": null,
      "id": "3a954d7d-c344-49ac-b9ca-255d22d37497",
      "metadata": {
        "id": "3a954d7d-c344-49ac-b9ca-255d22d37497",
        "outputId": "158fc2fb-4cad-4661-9a5e-fbd963d701fa"
      },
      "outputs": [
        {
          "name": "stdin",
          "output_type": "stream",
          "text": [
            "Enter a number (1-7) to represent the day of the week:  5\n"
          ]
        },
        {
          "name": "stdout",
          "output_type": "stream",
          "text": [
            "The day of the week is Friday.\n"
          ]
        }
      ],
      "source": [
        "day_number = int(input(\"Enter a number (1-7) to represent the day of the week: \"))\n",
        "\n",
        "\n",
        "days_of_week = [\"Monday\", \"Tuesday\", \"Wednesday\", \"Thursday\", \"Friday\", \"Saturday\", \"Sunday\"]\n",
        "\n",
        "\n",
        "if 1 <= day_number <= 7:\n",
        "\n",
        "    day_name = days_of_week[day_number - 1]\n",
        "    print(f\"The day of the week is {day_name}.\")\n",
        "else:\n",
        "    print(\"Invalid input. Please enter a number between 1 and 7 to represent a day of the week.\")\n"
      ]
    },
    {
      "cell_type": "markdown",
      "id": "1d91db2a-b303-43c1-b282-e33078652bd1",
      "metadata": {
        "id": "1d91db2a-b303-43c1-b282-e33078652bd1"
      },
      "source": [
        "19. Create a program that determines if a year is a leap year and also if it is evenly divisible by 400."
      ]
    },
    {
      "cell_type": "code",
      "execution_count": null,
      "id": "31a6fa26-7269-41ff-8ecd-aea0574741f2",
      "metadata": {
        "id": "31a6fa26-7269-41ff-8ecd-aea0574741f2",
        "outputId": "1109eb86-3f4d-45ed-d663-de2c6a8955c3"
      },
      "outputs": [
        {
          "name": "stdin",
          "output_type": "stream",
          "text": [
            "Enter a year:  2024\n"
          ]
        },
        {
          "name": "stdout",
          "output_type": "stream",
          "text": [
            "2024 is a leap year.\n"
          ]
        }
      ],
      "source": [
        "def is_leap_year(year):\n",
        "    if year % 4 == 0:\n",
        "        if year % 100 == 0:\n",
        "            if year % 400 == 0:\n",
        "                return True\n",
        "            else:\n",
        "                return False\n",
        "        else:\n",
        "            return True\n",
        "    else:\n",
        "        return False\n",
        "\n",
        "\n",
        "year = int(input(\"Enter a year: \"))\n",
        "\n",
        "if is_leap_year(year):\n",
        "    print(f\"{year} is a leap year.\")\n",
        "else:\n",
        "    print(f\"{year} is not a leap year.\")\n",
        "    if year % 400 == 0:\n",
        "        print(f\"{year} is evenly divisible by 400.\")\n",
        "    else:\n",
        "        print(f\"{year} is not evenly divisible by 400.\")\n"
      ]
    },
    {
      "cell_type": "markdown",
      "id": "3312b38d-1478-4a39-b3c4-af6c4fbacb38",
      "metadata": {
        "id": "3312b38d-1478-4a39-b3c4-af6c4fbacb38"
      },
      "source": [
        "20. Develop a program that checks if a given number is prime or not using nested if-else statements."
      ]
    },
    {
      "cell_type": "code",
      "execution_count": null,
      "id": "34054b84-0277-4324-ba5c-dfcc1709ee37",
      "metadata": {
        "id": "34054b84-0277-4324-ba5c-dfcc1709ee37",
        "outputId": "1432f38b-6abf-4758-fcbc-59e30bbfa776"
      },
      "outputs": [
        {
          "name": "stdin",
          "output_type": "stream",
          "text": [
            "Enter a number:  6\n"
          ]
        },
        {
          "name": "stdout",
          "output_type": "stream",
          "text": [
            "6 is not a prime number.\n"
          ]
        }
      ],
      "source": [
        "num = int(input(\"Enter a number: \"))\n",
        "\n",
        "\n",
        "if num < 2:\n",
        "    print(f\"{num} is not a prime number.\")\n",
        "else:\n",
        "    is_prime = True\n",
        "\n",
        "\n",
        "    for i in range(2, int(num ** 0.5) + 1):\n",
        "        if num % i == 0:\n",
        "            is_prime = False\n",
        "            break\n",
        "\n",
        "    if is_prime:\n",
        "        print(f\"{num} is a prime number.\")\n",
        "    else:\n",
        "        print(f\"{num} is not a prime number.\")\n"
      ]
    },
    {
      "cell_type": "markdown",
      "id": "ee864a73-195b-4c9e-9918-2ce5c9536eca",
      "metadata": {
        "id": "ee864a73-195b-4c9e-9918-2ce5c9536eca"
      },
      "source": [
        "Elif Statements:\n",
        "\n",
        "\n",
        "\n",
        "21. Write a Python program to assign grades based on different ranges of scores using elif statements."
      ]
    },
    {
      "cell_type": "code",
      "execution_count": null,
      "id": "d458baf3-9cfd-4340-a458-44ca4487428a",
      "metadata": {
        "id": "d458baf3-9cfd-4340-a458-44ca4487428a",
        "outputId": "ee5cf66d-4a32-475a-f26e-e58c64690de5"
      },
      "outputs": [
        {
          "name": "stdin",
          "output_type": "stream",
          "text": [
            "Enter the score:  82\n"
          ]
        },
        {
          "name": "stdout",
          "output_type": "stream",
          "text": [
            "Score: 82.0 -> Grade: B\n"
          ]
        }
      ],
      "source": [
        "\n",
        "score = float(input(\"Enter the score: \"))\n",
        "\n",
        "\n",
        "if 90 <= score <= 100:\n",
        "    grade = \"A\"\n",
        "elif 80 <= score < 90:\n",
        "    grade = \"B\"\n",
        "elif 70 <= score < 80:\n",
        "    grade = \"C\"\n",
        "elif 60 <= score < 70:\n",
        "    grade = \"D\"\n",
        "else:\n",
        "    grade = \"F\"\n",
        "\n",
        "\n",
        "print(f\"Score: {score} -> Grade: {grade}\")\n"
      ]
    },
    {
      "cell_type": "markdown",
      "id": "62c20ffe-036f-453c-875d-852a309c5899",
      "metadata": {
        "id": "62c20ffe-036f-453c-875d-852a309c5899"
      },
      "source": [
        "22. Implement a program to determine the type of a triangle based on its angles."
      ]
    },
    {
      "cell_type": "code",
      "execution_count": null,
      "id": "d09593d4-e54b-4dd2-91c5-7d305e84a4f6",
      "metadata": {
        "id": "d09593d4-e54b-4dd2-91c5-7d305e84a4f6",
        "outputId": "e8f88404-d0d6-4fec-f655-a9b139a057f1"
      },
      "outputs": [
        {
          "name": "stdin",
          "output_type": "stream",
          "text": [
            "Enter the first angle:  60\n",
            "Enter the second angle:  60\n",
            "Enter the third angle:  60\n"
          ]
        },
        {
          "name": "stdout",
          "output_type": "stream",
          "text": [
            "This is an acute triangle.\n"
          ]
        }
      ],
      "source": [
        "angle1 = float(input(\"Enter the first angle: \"))\n",
        "angle2 = float(input(\"Enter the second angle: \"))\n",
        "angle3 = float(input(\"Enter the third angle: \"))\n",
        "\n",
        "if angle1 + angle2 + angle3 == 180:\n",
        "    if angle1 == 90 or angle2 == 90 or angle3 == 90:\n",
        "        print(\"This is a right triangle.\")\n",
        "    elif angle1 < 90 and angle2 < 90 and angle3 < 90:\n",
        "        print(\"This is an acute triangle.\")\n",
        "    else:\n",
        "        print(\"This is an obtuse triangle.\")\n",
        "else:\n",
        "    print(\"These angles do not form a valid triangle.\")\n"
      ]
    },
    {
      "cell_type": "markdown",
      "id": "ce86a801-a2fe-4679-9740-fe8d16ec5f0c",
      "metadata": {
        "id": "ce86a801-a2fe-4679-9740-fe8d16ec5f0c"
      },
      "source": [
        "23. Develop a program to categorize a given person's BMI into underweight, normal, overweight, or obese using\n",
        "elif statements."
      ]
    },
    {
      "cell_type": "code",
      "execution_count": null,
      "id": "07d04815-33b1-411f-9e23-5859ba22acce",
      "metadata": {
        "id": "07d04815-33b1-411f-9e23-5859ba22acce",
        "outputId": "86df01de-069c-4d51-a3d5-c8c2b4cb391e"
      },
      "outputs": [
        {
          "name": "stdin",
          "output_type": "stream",
          "text": [
            "Enter weight in kg:  45\n",
            "Enter height in meters:  1.73\n"
          ]
        },
        {
          "name": "stdout",
          "output_type": "stream",
          "text": [
            "Your BMI is 15.04, and you are categorized as Underweight.\n"
          ]
        }
      ],
      "source": [
        "weight = float(input(\"Enter weight in kg: \"))\n",
        "height = float(input(\"Enter height in meters: \"))\n",
        "\n",
        "bmi = weight / (height ** 2)\n",
        "\n",
        "if bmi < 18.5:\n",
        "    category = \"Underweight\"\n",
        "elif 18.5 <= bmi < 24.9:\n",
        "    category = \"Normal\"\n",
        "elif 24.9 <= bmi < 29.9:\n",
        "    category = \"Overweight\"\n",
        "else:\n",
        "    category = \"Obese\"\n",
        "\n",
        "print(f\"Your BMI is {bmi:.2f}, and you are categorized as {category}.\")\n"
      ]
    },
    {
      "cell_type": "markdown",
      "id": "d9bf1189-b9ec-46f9-b8cb-4fa82d2716c2",
      "metadata": {
        "id": "d9bf1189-b9ec-46f9-b8cb-4fa82d2716c2"
      },
      "source": [
        "24. Create a program that determines whether a given number is positive, negative, or zero using elif\n",
        "statements"
      ]
    },
    {
      "cell_type": "code",
      "execution_count": null,
      "id": "1445ad83-45ff-45f1-9124-8dff5a7a2a2b",
      "metadata": {
        "id": "1445ad83-45ff-45f1-9124-8dff5a7a2a2b",
        "outputId": "56e42fb5-f40f-4f41-8768-82859568f888"
      },
      "outputs": [
        {
          "name": "stdin",
          "output_type": "stream",
          "text": [
            "Enter a number:  6\n"
          ]
        },
        {
          "name": "stdout",
          "output_type": "stream",
          "text": [
            "Positive\n"
          ]
        }
      ],
      "source": [
        "number=float(input(\"Enter a number: \"))\n",
        "if number >0:\n",
        "    print(\"Positive\")\n",
        "elif number <0:\n",
        "    print(\"Negative\")\n",
        "else:\n",
        "    print(\"zero\")"
      ]
    },
    {
      "cell_type": "markdown",
      "id": "71bf1730-ae67-4dcd-a448-254c3b0c514f",
      "metadata": {
        "id": "71bf1730-ae67-4dcd-a448-254c3b0c514f"
      },
      "source": [
        "25. Write a Python script to determine the type of a character (uppercase, lowercase, or special) using elif\n",
        "statements"
      ]
    },
    {
      "cell_type": "code",
      "execution_count": null,
      "id": "52e93aa1-38e2-4975-8942-a96775cd25dd",
      "metadata": {
        "id": "52e93aa1-38e2-4975-8942-a96775cd25dd",
        "outputId": "6899f5e3-37ee-4592-8b6b-9fcdd756f207"
      },
      "outputs": [
        {
          "name": "stdin",
          "output_type": "stream",
          "text": [
            "Enter a character:  vishal\n"
          ]
        },
        {
          "name": "stdout",
          "output_type": "stream",
          "text": [
            "Lowercase\n"
          ]
        }
      ],
      "source": [
        "char = input(\"Enter a character: \")\n",
        "\n",
        "if char.isupper():\n",
        "    print(\"Uppercase\")\n",
        "elif char.islower():\n",
        "    print(\"Lowercase\")\n",
        "else:\n",
        "    print(\"Special character\")\n"
      ]
    },
    {
      "cell_type": "markdown",
      "id": "d2295d50-f8f1-4452-91b6-a758caa6174b",
      "metadata": {
        "id": "d2295d50-f8f1-4452-91b6-a758caa6174b"
      },
      "source": [
        "26. Implement a program to calculate the discounted price based on different purchase amounts using elif\n",
        "statements."
      ]
    },
    {
      "cell_type": "code",
      "execution_count": null,
      "id": "b0913891-42c5-472d-ab7c-34e1f4618f5e",
      "metadata": {
        "id": "b0913891-42c5-472d-ab7c-34e1f4618f5e",
        "outputId": "42339153-bc12-4c08-9254-1146c220c400"
      },
      "outputs": [
        {
          "name": "stdin",
          "output_type": "stream",
          "text": [
            "Enter the purchase amount:  500\n"
          ]
        },
        {
          "name": "stdout",
          "output_type": "stream",
          "text": [
            "Discounted Price: 475.0\n"
          ]
        }
      ],
      "source": [
        "purchase_amount = float(input(\"Enter the purchase amount: \"))\n",
        "\n",
        "if purchase_amount >= 1000:\n",
        "    discount_percentage = 10\n",
        "elif purchase_amount >= 500:\n",
        "    discount_percentage = 5\n",
        "else:\n",
        "    discount_percentage = 0\n",
        "\n",
        "discounted_price = purchase_amount - (purchase_amount * discount_percentage / 100)\n",
        "\n",
        "print(f\"Discounted Price: {discounted_price}\")\n"
      ]
    },
    {
      "cell_type": "markdown",
      "id": "31d82bb5-9df2-4c0e-8a3a-0396750dd8d9",
      "metadata": {
        "id": "31d82bb5-9df2-4c0e-8a3a-0396750dd8d9"
      },
      "source": [
        "27. Develop a program to calculate the electricity bill based on different consumption slabs using elif\n",
        "statements."
      ]
    },
    {
      "cell_type": "code",
      "execution_count": null,
      "id": "7c6c2106-6604-4063-9a9f-579c1a6755ed",
      "metadata": {
        "id": "7c6c2106-6604-4063-9a9f-579c1a6755ed",
        "outputId": "731fdf24-fa1e-478a-f0b1-dd9fb2e76b88"
      },
      "outputs": [
        {
          "name": "stdin",
          "output_type": "stream",
          "text": [
            "Enter the electricity consumption (in kWh):  120\n"
          ]
        },
        {
          "name": "stdout",
          "output_type": "stream",
          "text": [
            "Electricity Bill: $84.0\n"
          ]
        }
      ],
      "source": [
        "consumption = float(input(\"Enter the electricity consumption (in kWh): \"))\n",
        "\n",
        "if consumption <= 100:\n",
        "    rate = 0.5\n",
        "elif consumption <= 200:\n",
        "    rate = 0.7\n",
        "elif consumption <= 300:\n",
        "    rate = 0.9\n",
        "else:\n",
        "    rate = 1.2\n",
        "\n",
        "bill = consumption * rate\n",
        "print(f\"Electricity Bill: ${bill}\")\n"
      ]
    },
    {
      "cell_type": "markdown",
      "id": "ba399ecd-f82e-4562-9b7e-79f12237f25d",
      "metadata": {
        "id": "ba399ecd-f82e-4562-9b7e-79f12237f25d"
      },
      "source": [
        "28. Create a program to determine the type of quadrilateral based on its angles and sides using elif\n",
        "statements."
      ]
    },
    {
      "cell_type": "code",
      "execution_count": null,
      "id": "a51dca08-1290-454a-98b1-df4ff3762577",
      "metadata": {
        "id": "a51dca08-1290-454a-98b1-df4ff3762577",
        "outputId": "58f125f4-6fd8-417a-e62d-6e515bac0b21"
      },
      "outputs": [
        {
          "name": "stdin",
          "output_type": "stream",
          "text": [
            "Enter the number of sides in the quadrilateral:  3\n",
            "Enter the sum of interior angles:  40\n"
          ]
        },
        {
          "name": "stdout",
          "output_type": "stream",
          "text": [
            "It is not a quadrilateral.\n"
          ]
        }
      ],
      "source": [
        "num_sides = int(input(\"Enter the number of sides in the quadrilateral: \"))\n",
        "angle_sum = int(input(\"Enter the sum of interior angles: \"))\n",
        "\n",
        "if num_sides == 4:\n",
        "    if angle_sum == 360:\n",
        "        print(\"It is a quadrilateral.\")\n",
        "    elif angle_sum < 360:\n",
        "        print(\"It is not a convex quadrilateral.\")\n",
        "    else:\n",
        "        print(\"It is not a valid quadrilateral.\")\n",
        "else:\n",
        "    print(\"It is not a quadrilateral.\")\n"
      ]
    },
    {
      "cell_type": "markdown",
      "id": "c9a789b8-0ec9-4703-948d-32f8a6fed143",
      "metadata": {
        "id": "c9a789b8-0ec9-4703-948d-32f8a6fed143"
      },
      "source": [
        "29. Write a Python script to determine the season based on a user-provided month using elif statements"
      ]
    },
    {
      "cell_type": "code",
      "execution_count": null,
      "id": "0ecc45e5-79df-45f9-a09a-58a217ba4cdb",
      "metadata": {
        "id": "0ecc45e5-79df-45f9-a09a-58a217ba4cdb",
        "outputId": "45431a9d-6fad-4dde-93d9-39ecac1333c1"
      },
      "outputs": [
        {
          "name": "stdin",
          "output_type": "stream",
          "text": [
            "Enter the month:  december\n"
          ]
        },
        {
          "name": "stdout",
          "output_type": "stream",
          "text": [
            "Winter\n"
          ]
        }
      ],
      "source": [
        "month = input(\"Enter the month: \").lower()\n",
        "\n",
        "if month in [\"december\", \"january\", \"february\"]:\n",
        "    print(\"Winter\")\n",
        "elif month in [\"march\", \"april\", \"may\"]:\n",
        "    print(\"Spring\")\n",
        "elif month in [\"june\", \"july\", \"august\"]:\n",
        "    print(\"Summer\")\n",
        "elif month in [\"september\", \"october\", \"november\"]:\n",
        "    print(\"Autumn\")\n",
        "else:\n",
        "    print(\"Invalid month\")\n"
      ]
    },
    {
      "cell_type": "markdown",
      "id": "b8b39617-c975-4e44-b99f-7ef302a5f19f",
      "metadata": {
        "id": "b8b39617-c975-4e44-b99f-7ef302a5f19f"
      },
      "source": [
        "30. Implement a program to determine the type of a year (leap or common) and month (30 or 31 days) using\n",
        "elif statements."
      ]
    },
    {
      "cell_type": "code",
      "execution_count": null,
      "id": "167fe7fe-b535-4eb2-bd48-bb96bee3a98b",
      "metadata": {
        "id": "167fe7fe-b535-4eb2-bd48-bb96bee3a98b",
        "outputId": "34b4377c-13f7-4a4d-b7ad-3fda7dd79fb4"
      },
      "outputs": [
        {
          "name": "stdin",
          "output_type": "stream",
          "text": [
            "Enter the year:  2023\n",
            "Enter the month:  december\n"
          ]
        },
        {
          "name": "stdout",
          "output_type": "stream",
          "text": [
            "Common Year\n",
            "31 days\n"
          ]
        }
      ],
      "source": [
        "year = int(input(\"Enter the year: \"))\n",
        "month = input(\"Enter the month: \").lower()\n",
        "\n",
        "if (year % 4 == 0 and year % 100 != 0) or (year % 400 == 0):\n",
        "    print(\"Leap Year\")\n",
        "else:\n",
        "    print(\"Common Year\")\n",
        "\n",
        "if month in [\"january\", \"march\", \"may\", \"july\", \"august\", \"october\", \"december\"]:\n",
        "    print(\"31 days\")\n",
        "elif month in [\"april\", \"june\", \"september\", \"november\"]:\n",
        "    print(\"30 days\")\n",
        "elif month == \"february\":\n",
        "    if (year % 4 == 0 and year % 100 != 0) or (year % 400 == 0):\n",
        "        print(\"29 days (leap year)\")\n",
        "    else:\n",
        "        print(\"28 days (common year)\")\n",
        "else:\n",
        "    print(\"Invalid month\")\n"
      ]
    },
    {
      "cell_type": "markdown",
      "id": "e9e874c7-2b5d-4595-b864-4a5e4c790c64",
      "metadata": {
        "id": "e9e874c7-2b5d-4595-b864-4a5e4c790c64"
      },
      "source": [
        "Basic Level:"
      ]
    },
    {
      "cell_type": "markdown",
      "id": "b5bde622-ebcc-4bdd-aa86-e3d920673ebd",
      "metadata": {
        "id": "b5bde622-ebcc-4bdd-aa86-e3d920673ebd"
      },
      "source": [
        "1. Write a Python program that checks if a given number is positive, negative, or zero."
      ]
    },
    {
      "cell_type": "code",
      "execution_count": null,
      "id": "8569921e-8a35-4e63-a018-60a8552e782e",
      "metadata": {
        "id": "8569921e-8a35-4e63-a018-60a8552e782e",
        "outputId": "d0c7a328-048b-47e5-838a-56e7d52b87d4"
      },
      "outputs": [
        {
          "name": "stdin",
          "output_type": "stream",
          "text": [
            "enter your number 5\n"
          ]
        },
        {
          "name": "stdout",
          "output_type": "stream",
          "text": [
            "your number is POSITIVE\n"
          ]
        }
      ],
      "source": [
        "number=int(input(\"enter your number\"))\n",
        "if number>0:\n",
        "    print(\"your number is POSITIVE\")\n",
        "elif number<0:\n",
        "    print(\"Your number is NEGATIVE\")\n",
        "else:\n",
        "    print(\"Your number is ZERO\")\n",
        ""
      ]
    },
    {
      "cell_type": "markdown",
      "id": "5533c938-aa5f-4c4d-9716-c4e34b2204fa",
      "metadata": {
        "id": "5533c938-aa5f-4c4d-9716-c4e34b2204fa"
      },
      "source": [
        "2. Create a program to determine if a person is eligible to vote based on their age."
      ]
    },
    {
      "cell_type": "code",
      "execution_count": null,
      "id": "a1526959-8795-4e07-ad19-5c4d0185a94b",
      "metadata": {
        "id": "a1526959-8795-4e07-ad19-5c4d0185a94b",
        "outputId": "3308318a-dd6d-4c3f-b0a1-1c9933f8383a"
      },
      "outputs": [
        {
          "name": "stdin",
          "output_type": "stream",
          "text": [
            "enter your age here : 36\n"
          ]
        },
        {
          "name": "stdout",
          "output_type": "stream",
          "text": [
            "You are eligiable for voting\n"
          ]
        }
      ],
      "source": [
        "age =int(input(\"enter your age here :\"))\n",
        "if age>=18 and age<=56:\n",
        "    print(\"You are eligiable for voting\")\n",
        "elif age<18:\n",
        "    print(\"You are a Minor\")\n",
        "else:\n",
        "    print(\"your not eligiable candidate\")\n",
        "\n",
        ""
      ]
    },
    {
      "cell_type": "markdown",
      "id": "16562e33-442f-4777-b22d-dfb8d1f5328d",
      "metadata": {
        "id": "16562e33-442f-4777-b22d-dfb8d1f5328d"
      },
      "source": [
        "3. Write a program to find the maximum of two given numbers using conditional statements."
      ]
    },
    {
      "cell_type": "code",
      "execution_count": null,
      "id": "1ac038b7-9f3d-42ae-9371-d964c3587b8d",
      "metadata": {
        "id": "1ac038b7-9f3d-42ae-9371-d964c3587b8d",
        "outputId": "c15d8a5d-7a14-45ba-9722-2d28564399b5"
      },
      "outputs": [
        {
          "name": "stdin",
          "output_type": "stream",
          "text": [
            "Enter the first number:  8\n",
            "Enter the second number:  6\n"
          ]
        },
        {
          "name": "stdout",
          "output_type": "stream",
          "text": [
            "The maximum of 8.0 and 6.0 is: 8.0\n"
          ]
        }
      ],
      "source": [
        "def find_maximum(num1, num2):\n",
        "    if num1 > num2:\n",
        "        return num1\n",
        "    else:\n",
        "        return num2\n",
        "num1 = float(input(\"Enter the first number: \"))\n",
        "num2 = float(input(\"Enter the second number: \"))\n",
        "maximum_number = find_maximum(num1, num2)\n",
        "print(\"The maximum of\", num1, \"and\", num2, \"is:\", maximum_number)"
      ]
    },
    {
      "cell_type": "markdown",
      "id": "bd3edd9c-6f40-46ac-83d4-4c164e88db72",
      "metadata": {
        "id": "bd3edd9c-6f40-46ac-83d4-4c164e88db72"
      },
      "source": [
        "4. Develop a program that calculates the grade of a student based on their exam score."
      ]
    },
    {
      "cell_type": "code",
      "execution_count": null,
      "id": "436bbb49-ad7f-4bf5-b03d-7176f93803f7",
      "metadata": {
        "id": "436bbb49-ad7f-4bf5-b03d-7176f93803f7",
        "outputId": "d07ea828-6247-4483-8b0c-4eeeb80f9be4"
      },
      "outputs": [
        {
          "name": "stdin",
          "output_type": "stream",
          "text": [
            "Enter the exam score:  82\n"
          ]
        },
        {
          "name": "stdout",
          "output_type": "stream",
          "text": [
            "The grade is: B\n"
          ]
        }
      ],
      "source": [
        "# Program to calculate the grade based on exam score\n",
        "score = float(input(\"Enter the exam score: \"))\n",
        "\n",
        "if score >= 90:\n",
        "    grade = 'A'\n",
        "elif score >= 80:\n",
        "    grade = 'B'\n",
        "elif score >= 70:\n",
        "    grade = 'C'\n",
        "elif score >= 60:\n",
        "    grade = 'D'\n",
        "else:\n",
        "    grade = 'F'\n",
        "\n",
        "print(\"The grade is:\", grade)\n"
      ]
    },
    {
      "cell_type": "markdown",
      "id": "81403423-b8bc-48db-9b38-41ade50635fb",
      "metadata": {
        "id": "81403423-b8bc-48db-9b38-41ade50635fb"
      },
      "source": [
        "5. Create a program that checks if a year is a leap year or not"
      ]
    },
    {
      "cell_type": "code",
      "execution_count": null,
      "id": "197a4219-eaee-4afc-9442-7977ad95bab2",
      "metadata": {
        "id": "197a4219-eaee-4afc-9442-7977ad95bab2",
        "outputId": "c074966b-7326-43a6-9781-96eb50aa9241"
      },
      "outputs": [
        {
          "name": "stdin",
          "output_type": "stream",
          "text": [
            "Enter a year:  2356\n"
          ]
        },
        {
          "name": "stdout",
          "output_type": "stream",
          "text": [
            "2356 is a leap year.\n"
          ]
        }
      ],
      "source": [
        "year = int(input(\"Enter a year: \"))\n",
        "\n",
        "if (year % 4 == 0 and year % 100 != 0) or (year % 400 == 0):\n",
        "    print(year, \"is a leap year.\")\n",
        "else:\n",
        "    print(year, \"is not a leap year.\")\n"
      ]
    },
    {
      "cell_type": "markdown",
      "id": "4f9366d5-9dbc-4fc8-97d0-8df796d128b5",
      "metadata": {
        "id": "4f9366d5-9dbc-4fc8-97d0-8df796d128b5"
      },
      "source": [
        "6. Write a program to classify a triangle based on its sides' lengths"
      ]
    },
    {
      "cell_type": "code",
      "execution_count": null,
      "id": "53a66aa2-bca4-465a-a048-655aedbe8eec",
      "metadata": {
        "id": "53a66aa2-bca4-465a-a048-655aedbe8eec",
        "outputId": "e7c85365-8f6a-4e39-ce38-53d49f0a1eca"
      },
      "outputs": [
        {
          "name": "stdin",
          "output_type": "stream",
          "text": [
            "Enter the length of side 1:  5\n",
            "Enter the length of side 2:  10\n",
            "Enter the length of side 3:  10\n"
          ]
        },
        {
          "name": "stdout",
          "output_type": "stream",
          "text": [
            "Isosceles triangle\n"
          ]
        }
      ],
      "source": [
        "side1 = float(input(\"Enter the length of side 1: \"))\n",
        "side2 = float(input(\"Enter the length of side 2: \"))\n",
        "side3 = float(input(\"Enter the length of side 3: \"))\n",
        "\n",
        "if side1 == side2 == side3:\n",
        "    print(\"Equilateral triangle\")\n",
        "elif side1 == side2 or side2 == side3 or side1 == side3:\n",
        "    print(\"Isosceles triangle\")\n",
        "else:\n",
        "    print(\"Scalene triangle\")\n"
      ]
    },
    {
      "cell_type": "markdown",
      "id": "4c8ad924-25de-4ba9-9859-347cd3863f43",
      "metadata": {
        "id": "4c8ad924-25de-4ba9-9859-347cd3863f43"
      },
      "source": [
        "7. Build a program that determines the largest of three given numbers"
      ]
    },
    {
      "cell_type": "code",
      "execution_count": null,
      "id": "6c4365bb-6607-438d-9354-ec3786dd7dcd",
      "metadata": {
        "id": "6c4365bb-6607-438d-9354-ec3786dd7dcd",
        "outputId": "4a01715f-3a12-46fb-eee7-ab64ee76a82b"
      },
      "outputs": [
        {
          "name": "stdin",
          "output_type": "stream",
          "text": [
            "Enter the first number:  8\n",
            "Enter the second number:  5\n",
            "Enter the third number:  6\n"
          ]
        },
        {
          "name": "stdout",
          "output_type": "stream",
          "text": [
            "The largest number is: 8.0\n"
          ]
        }
      ],
      "source": [
        "num1 = float(input(\"Enter the first number: \"))\n",
        "num2 = float(input(\"Enter the second number: \"))\n",
        "num3 = float(input(\"Enter the third number: \"))\n",
        "\n",
        "largest_number = max(num1, num2, num3)\n",
        "print(\"The largest number is:\", largest_number)\n"
      ]
    },
    {
      "cell_type": "markdown",
      "id": "88d52d1e-b46e-40fb-b399-7fbd4a7ad52f",
      "metadata": {
        "id": "88d52d1e-b46e-40fb-b399-7fbd4a7ad52f"
      },
      "source": [
        "8. Develop a program that checks whether a character is a vowel or a consonant."
      ]
    },
    {
      "cell_type": "code",
      "execution_count": null,
      "id": "af8d350f-ffb2-462a-868c-65be7f27bcec",
      "metadata": {
        "id": "af8d350f-ffb2-462a-868c-65be7f27bcec",
        "outputId": "8ead90c9-84fb-4ba1-8847-81245c4d3b4e"
      },
      "outputs": [
        {
          "name": "stdin",
          "output_type": "stream",
          "text": [
            "Enter a character:  d\n"
          ]
        },
        {
          "name": "stdout",
          "output_type": "stream",
          "text": [
            "Consonant\n"
          ]
        }
      ],
      "source": [
        "char = input(\"Enter a character: \").lower()\n",
        "\n",
        "if char.isalpha() and len(char) == 1:\n",
        "    if char in 'aeiou':\n",
        "        print(\"Vowel\")\n",
        "    else:\n",
        "        print(\"Consonant\")\n",
        "else:\n",
        "    print(\"Invalid input. Please enter a single alphabet.\")\n"
      ]
    },
    {
      "cell_type": "markdown",
      "id": "78b7ced8-d8cf-4467-ae43-8801fb52d7d9",
      "metadata": {
        "id": "78b7ced8-d8cf-4467-ae43-8801fb52d7d9"
      },
      "source": [
        "9. Create a program to calculate the total cost of a shopping cart based on discounts."
      ]
    },
    {
      "cell_type": "code",
      "execution_count": null,
      "id": "975eaddc-7845-461b-a2e9-0a9887003f20",
      "metadata": {
        "id": "975eaddc-7845-461b-a2e9-0a9887003f20",
        "outputId": "721b2601-7793-43a2-8b73-da9bbe7191cc"
      },
      "outputs": [
        {
          "name": "stdin",
          "output_type": "stream",
          "text": [
            "Enter the total number of items:  8\n",
            "Enter the price per item:  40\n"
          ]
        },
        {
          "name": "stdout",
          "output_type": "stream",
          "text": [
            "Total cost after discount: 320.0\n"
          ]
        }
      ],
      "source": [
        "total_items = int(input(\"Enter the total number of items: \"))\n",
        "item_price = float(input(\"Enter the price per item: \"))\n",
        "\n",
        "total_cost = total_items * item_price\n",
        "\n",
        "if total_items >= 10:\n",
        "    discount = 0.1 * total_cost\n",
        "    total_cost -= discount\n",
        "\n",
        "print(\"Total cost after discount:\", total_cost)\n"
      ]
    },
    {
      "cell_type": "markdown",
      "id": "c66b0b24-d573-4ba8-a9b2-44167975d1ff",
      "metadata": {
        "id": "c66b0b24-d573-4ba8-a9b2-44167975d1ff"
      },
      "source": [
        "10. Write a program that checks if a given number is even or odd."
      ]
    },
    {
      "cell_type": "code",
      "execution_count": null,
      "id": "8ea3fcab-afb2-4d89-8ed5-7a8ed1425ccb",
      "metadata": {
        "id": "8ea3fcab-afb2-4d89-8ed5-7a8ed1425ccb",
        "outputId": "5460bfa0-fdd9-4169-fceb-b178c98d316f"
      },
      "outputs": [
        {
          "name": "stdin",
          "output_type": "stream",
          "text": [
            "Enter a number:  56\n"
          ]
        },
        {
          "name": "stdout",
          "output_type": "stream",
          "text": [
            "56 is even.\n"
          ]
        }
      ],
      "source": [
        "num = int(input(\"Enter a number: \"))\n",
        "\n",
        "if num % 2 == 0:\n",
        "    print(num, \"is even.\")\n",
        "else:\n",
        "    print(num, \"is odd.\")\n"
      ]
    },
    {
      "cell_type": "markdown",
      "id": "b75fe151-4e61-4eea-aa5b-48da9de1200c",
      "metadata": {
        "id": "b75fe151-4e61-4eea-aa5b-48da9de1200c"
      },
      "source": [
        "Intermediate Level:"
      ]
    },
    {
      "cell_type": "markdown",
      "id": "b799fa47-d90f-43d6-b9fb-5cc153026ec5",
      "metadata": {
        "id": "b799fa47-d90f-43d6-b9fb-5cc153026ec5"
      },
      "source": [
        "11. Write a program that calculates the roots of a quadratic equation"
      ]
    },
    {
      "cell_type": "code",
      "execution_count": null,
      "id": "7a92145d-70c8-4038-82fc-2dabc5a0de38",
      "metadata": {
        "id": "7a92145d-70c8-4038-82fc-2dabc5a0de38",
        "outputId": "5f8e696e-3356-41a4-d28c-dfdd85e74f4c"
      },
      "outputs": [
        {
          "name": "stdin",
          "output_type": "stream",
          "text": [
            "Enter the coefficient of x^2:  5\n",
            "Enter the coefficient of x:  6\n",
            "Enter the constant term:  1\n"
          ]
        },
        {
          "name": "stdout",
          "output_type": "stream",
          "text": [
            "Root 1: (-1+0j)\n",
            "Root 2: (-0.2+0j)\n"
          ]
        }
      ],
      "source": [
        "import cmath\n",
        "a = float(input(\"Enter the coefficient of x^2: \"))\n",
        "b = float(input(\"Enter the coefficient of x: \"))\n",
        "c = float(input(\"Enter the constant term: \"))\n",
        "\n",
        "discriminant = (b**2) - (4*a*c)\n",
        "\n",
        "root1 = (-b - cmath.sqrt(discriminant)) / (2*a)\n",
        "root2 = (-b + cmath.sqrt(discriminant)) / (2*a)\n",
        "\n",
        "print(\"Root 1:\", root1)\n",
        "print(\"Root 2:\", root2)\n"
      ]
    },
    {
      "cell_type": "markdown",
      "id": "0e7fe28b-fff7-481d-9e93-75497a1f2647",
      "metadata": {
        "id": "0e7fe28b-fff7-481d-9e93-75497a1f2647"
      },
      "source": [
        "12. Create a program that determines the day of the week based on the day number (1-7)."
      ]
    },
    {
      "cell_type": "code",
      "execution_count": null,
      "id": "08f1963f-6c91-401f-97c6-5253383deef5",
      "metadata": {
        "id": "08f1963f-6c91-401f-97c6-5253383deef5",
        "outputId": "24cfeac9-7a89-4fa4-e6f5-5e0385c74182"
      },
      "outputs": [
        {
          "name": "stdin",
          "output_type": "stream",
          "text": [
            "Enter the day number (1-7):  5\n"
          ]
        },
        {
          "name": "stdout",
          "output_type": "stream",
          "text": [
            "Day of the week: Thursday\n"
          ]
        }
      ],
      "source": [
        "day_number = int(input(\"Enter the day number (1-7): \"))\n",
        "\n",
        "days_of_week = [\"Sunday\", \"Monday\", \"Tuesday\", \"Wednesday\", \"Thursday\", \"Friday\", \"Saturday\"]\n",
        "\n",
        "if 1 <= day_number <= 7:\n",
        "    print(\"Day of the week:\", days_of_week[day_number - 1])\n",
        "else:\n",
        "    print(\"Invalid day number. Please enter a number between 1 and 7.\")\n"
      ]
    },
    {
      "cell_type": "markdown",
      "id": "2d187d6e-ced5-4abd-8abf-13361f9363d4",
      "metadata": {
        "id": "2d187d6e-ced5-4abd-8abf-13361f9363d4"
      },
      "source": [
        "13. Develop a program that calculates the factorial of a given number using recursion."
      ]
    },
    {
      "cell_type": "code",
      "execution_count": null,
      "id": "6f5c102a-7135-450e-841f-694305bc9fcc",
      "metadata": {
        "id": "6f5c102a-7135-450e-841f-694305bc9fcc",
        "outputId": "261105b7-5776-4298-915b-4ff62de2478d"
      },
      "outputs": [
        {
          "name": "stdin",
          "output_type": "stream",
          "text": [
            "Enter a number to find its factorial:  9\n"
          ]
        },
        {
          "name": "stdout",
          "output_type": "stream",
          "text": [
            "Factorial of 9 is: 362880\n"
          ]
        }
      ],
      "source": [
        "def factorial(n):\n",
        "    if n == 0 or n == 1:\n",
        "        return 1\n",
        "    else:\n",
        "        return n * factorial(n-1)\n",
        "\n",
        "num = int(input(\"Enter a number to find its factorial: \"))\n",
        "print(\"Factorial of\", num, \"is:\", factorial(num))\n"
      ]
    },
    {
      "cell_type": "markdown",
      "id": "fab1999e-72fb-4314-9da1-a20630df8b7d",
      "metadata": {
        "id": "fab1999e-72fb-4314-9da1-a20630df8b7d"
      },
      "source": [
        "14. Write a program to find the largest among three numbers without using the `max()` function."
      ]
    },
    {
      "cell_type": "code",
      "execution_count": null,
      "id": "2189c246-e470-499f-82e5-38f2d03c7b7d",
      "metadata": {
        "id": "2189c246-e470-499f-82e5-38f2d03c7b7d",
        "outputId": "1d982cfc-2301-42e5-c348-33b455a8aedf"
      },
      "outputs": [
        {
          "name": "stdin",
          "output_type": "stream",
          "text": [
            "Enter the first number:  7\n",
            "Enter the second number:  6\n",
            "Enter the third number:  4\n"
          ]
        },
        {
          "name": "stdout",
          "output_type": "stream",
          "text": [
            "The largest number is: 7.0\n"
          ]
        }
      ],
      "source": [
        "num1 = float(input(\"Enter the first number: \"))\n",
        "num2 = float(input(\"Enter the second number: \"))\n",
        "num3 = float(input(\"Enter the third number: \"))\n",
        "\n",
        "largest = num1\n",
        "\n",
        "if num2 > largest:\n",
        "    largest = num2\n",
        "if num3 > largest:\n",
        "    largest = num3\n",
        "\n",
        "print(\"The largest number is:\", largest)\n"
      ]
    },
    {
      "cell_type": "markdown",
      "id": "6bfa7620-ba3e-44b0-b2a0-7747321cdfd6",
      "metadata": {
        "id": "6bfa7620-ba3e-44b0-b2a0-7747321cdfd6"
      },
      "source": [
        "15. Create a program that simulates a basic ATM transaction menu."
      ]
    },
    {
      "cell_type": "code",
      "execution_count": null,
      "id": "b0789845-d228-4379-9d3c-9c98751b0afc",
      "metadata": {
        "id": "b0789845-d228-4379-9d3c-9c98751b0afc",
        "outputId": "2afce8e3-4105-4278-c835-0dc4a802009b"
      },
      "outputs": [
        {
          "name": "stdout",
          "output_type": "stream",
          "text": [
            "ATM Menu:\n",
            "1. Check Balance\n",
            "2. Deposit\n",
            "3. Withdraw\n"
          ]
        },
        {
          "name": "stdin",
          "output_type": "stream",
          "text": [
            "Enter your choice (1-3):  3\n",
            "Enter the withdrawal amount:  999\n"
          ]
        },
        {
          "name": "stdout",
          "output_type": "stream",
          "text": [
            "Withdrawal successful. Your new balance is: 1.0\n"
          ]
        }
      ],
      "source": [
        "balance = 1000  # Initial account balance\n",
        "\n",
        "print(\"ATM Menu:\")\n",
        "print(\"1. Check Balance\")\n",
        "print(\"2. Deposit\")\n",
        "print(\"3. Withdraw\")\n",
        "\n",
        "choice = int(input(\"Enter your choice (1-3): \"))\n",
        "\n",
        "if choice == 1:\n",
        "    print(\"Your balance is:\", balance)\n",
        "elif choice == 2:\n",
        "    amount = float(input(\"Enter the deposit amount: \"))\n",
        "    balance += amount\n",
        "    print(\"Deposit successful. Your new balance is:\", balance)\n",
        "elif choice == 3:\n",
        "    amount = float(input(\"Enter the withdrawal amount: \"))\n",
        "    if amount <= balance:\n",
        "        balance -= amount\n",
        "        print(\"Withdrawal successful. Your new balance is:\", balance)\n",
        "    else:\n",
        "        print(\"Insufficient funds. Withdrawal failed.\")\n",
        "else:\n",
        "    print(\"Invalid choice. Please enter a number between 1 and 3.\")\n"
      ]
    },
    {
      "cell_type": "markdown",
      "id": "09377d33-b55d-4772-8b52-64cef63ead17",
      "metadata": {
        "id": "09377d33-b55d-4772-8b52-64cef63ead17"
      },
      "source": [
        "16. Build a program that checks if a given string is a palindrome or not."
      ]
    },
    {
      "cell_type": "code",
      "execution_count": null,
      "id": "ad54013b-a166-4d23-a7ad-9ee69e6a7f41",
      "metadata": {
        "id": "ad54013b-a166-4d23-a7ad-9ee69e6a7f41",
        "outputId": "fc94b0b7-7031-4cc1-dc38-487c3460cbe7"
      },
      "outputs": [
        {
          "name": "stdin",
          "output_type": "stream",
          "text": [
            "Enter a string:  abcba\n"
          ]
        },
        {
          "name": "stdout",
          "output_type": "stream",
          "text": [
            "The string is a palindrome.\n"
          ]
        }
      ],
      "source": [
        "def is_palindrome(s):\n",
        "    s = s.lower()\n",
        "    return s == s[::-1]\n",
        "\n",
        "input_str = input(\"Enter a string: \")\n",
        "if is_palindrome(input_str):\n",
        "    print(\"The string is a palindrome.\")\n",
        "else:\n",
        "    print(\"The string is not a palindrome.\")\n"
      ]
    },
    {
      "cell_type": "markdown",
      "id": "e19c07a6-905f-46e2-9d65-12f2193348d1",
      "metadata": {
        "id": "e19c07a6-905f-46e2-9d65-12f2193348d1"
      },
      "source": [
        "17. Write a program that calculates the average of a list of numbers, excluding the smallest and largest values."
      ]
    },
    {
      "cell_type": "code",
      "execution_count": null,
      "id": "88dc2b3a-68d7-47c0-a9ef-2bcc3af9239c",
      "metadata": {
        "id": "88dc2b3a-68d7-47c0-a9ef-2bcc3af9239c",
        "outputId": "4bc9df1e-e05e-46e7-f85c-c8ca144a1531"
      },
      "outputs": [
        {
          "name": "stdin",
          "output_type": "stream",
          "text": [
            "Enter a list of numbers separated by spaces:  3 34 4 5 13 89\n"
          ]
        },
        {
          "name": "stdout",
          "output_type": "stream",
          "text": [
            "Average (excluding smallest and largest): 14.0\n"
          ]
        }
      ],
      "source": [
        "numbers = [float(x) for x in input(\"Enter a list of numbers separated by spaces: \").split()]\n",
        "\n",
        "if len(numbers) >= 3:\n",
        "    numbers.remove(min(numbers))\n",
        "    numbers.remove(max(numbers))\n",
        "    average = sum(numbers) / len(numbers)\n",
        "    print(\"Average (excluding smallest and largest):\", average)\n",
        "else:\n",
        "    print(\"Please enter at least three numbers.\")\n"
      ]
    },
    {
      "cell_type": "markdown",
      "id": "ef9aeac5-aad8-4766-9c92-100e5515cac5",
      "metadata": {
        "id": "ef9aeac5-aad8-4766-9c92-100e5515cac5"
      },
      "source": [
        "18. Develop a program that converts a given temperature from Celsius to Fahrenheit."
      ]
    },
    {
      "cell_type": "code",
      "execution_count": null,
      "id": "ba41b8b8-1f03-442a-8299-aca8929f6fdc",
      "metadata": {
        "id": "ba41b8b8-1f03-442a-8299-aca8929f6fdc",
        "outputId": "ca153486-9329-4422-c130-404b082c6d5b"
      },
      "outputs": [
        {
          "name": "stdin",
          "output_type": "stream",
          "text": [
            "Enter temperature in Celsius:  23\n"
          ]
        },
        {
          "name": "stdout",
          "output_type": "stream",
          "text": [
            "Temperature in Fahrenheit: 73.4\n"
          ]
        }
      ],
      "source": [
        "celsius = float(input(\"Enter temperature in Celsius: \"))\n",
        "fahrenheit = (celsius * 9/5) + 32\n",
        "print(\"Temperature in Fahrenheit:\", fahrenheit)\n"
      ]
    },
    {
      "cell_type": "markdown",
      "id": "84521a72-6b4b-43ac-b8a1-878fbf6666e0",
      "metadata": {
        "id": "84521a72-6b4b-43ac-b8a1-878fbf6666e0"
      },
      "source": [
        "19. Create a program that simulates a basic calculator for addition, subtraction, multiplication, and division."
      ]
    },
    {
      "cell_type": "code",
      "execution_count": null,
      "id": "303aa30f-afde-4689-b1f3-aa3c53027de3",
      "metadata": {
        "id": "303aa30f-afde-4689-b1f3-aa3c53027de3",
        "outputId": "d7455fd3-d1ca-4256-f148-61180441cb64"
      },
      "outputs": [
        {
          "name": "stdin",
          "output_type": "stream",
          "text": [
            "Enter the first number:  3\n",
            "Enter the second number:  4\n"
          ]
        },
        {
          "name": "stdout",
          "output_type": "stream",
          "text": [
            "Calculator Menu:\n",
            "1. Addition\n",
            "2. Subtraction\n",
            "3. Multiplication\n",
            "4. Division\n"
          ]
        },
        {
          "name": "stdin",
          "output_type": "stream",
          "text": [
            "Enter your choice (1-4):  1\n"
          ]
        },
        {
          "name": "stdout",
          "output_type": "stream",
          "text": [
            "Result: 7.0\n"
          ]
        }
      ],
      "source": [
        "num1 = float(input(\"Enter the first number: \"))\n",
        "num2 = float(input(\"Enter the second number: \"))\n",
        "\n",
        "print(\"Calculator Menu:\")\n",
        "print(\"1. Addition\")\n",
        "print(\"2. Subtraction\")\n",
        "print(\"3. Multiplication\")\n",
        "print(\"4. Division\")\n",
        "\n",
        "operation = int(input(\"Enter your choice (1-4): \"))\n",
        "\n",
        "if operation == 1:\n",
        "    result = num1 + num2\n",
        "elif operation == 2:\n",
        "    result = num1 - num2\n",
        "elif operation == 3:\n",
        "    result = num1 * num2\n",
        "elif operation == 4:\n",
        "    if num2 != 0:\n",
        "        result = num1 / num2\n",
        "    else:\n",
        "        print(\"Cannot divide by zero.\")\n",
        "        result = None\n",
        "else:\n",
        "    print(\"Invalid choice. Please enter a number between 1 and 4.\")\n",
        "\n",
        "if result is not None:\n",
        "    print(\"Result:\", result)\n"
      ]
    },
    {
      "cell_type": "markdown",
      "id": "8352ef61-9069-40cd-94bc-05980dbb0beb",
      "metadata": {
        "id": "8352ef61-9069-40cd-94bc-05980dbb0beb"
      },
      "source": [
        "20. Write a program that determines the roots of a cubic equation using the Cardano formula."
      ]
    },
    {
      "cell_type": "code",
      "execution_count": null,
      "id": "f918c6a7-71e5-4f45-8064-8830003c2be2",
      "metadata": {
        "id": "f918c6a7-71e5-4f45-8064-8830003c2be2",
        "outputId": "0519f2fe-d292-45ab-f7ac-e74e8fb4afe8"
      },
      "outputs": [
        {
          "name": "stdin",
          "output_type": "stream",
          "text": [
            "Enter the coefficient of x^3:  5\n",
            "Enter the coefficient of x^2:  6\n",
            "Enter the coefficient of x:  4\n",
            "Enter the constant term:  2\n"
          ]
        },
        {
          "name": "stdout",
          "output_type": "stream",
          "text": [
            "Root of the cubic equation: (-0.8328164465488859-0.09733856914669703j)\n"
          ]
        }
      ],
      "source": [
        "import cmath\n",
        "\n",
        "def cubic_roots(a, b, c, d):\n",
        "    p = (3*a*c - b**2) / (3*a**2)\n",
        "    q = (2*b**3 - 9*a*b*c + 27*a**2*d) / (27*a**3)\n",
        "    delta = q**2 + 4*p**3 / 27\n",
        "\n",
        "    root1 = (-1/2) * (q + cmath.sqrt(delta))**(1/3) - (1/2) * (q - cmath.sqrt(delta))**(1/3) - b / (3*a)\n",
        "\n",
        "    return root1\n",
        "\n",
        "a = float(input(\"Enter the coefficient of x^3: \"))\n",
        "b = float(input(\"Enter the coefficient of x^2: \"))\n",
        "c = float(input(\"Enter the coefficient of x: \"))\n",
        "d = float(input(\"Enter the constant term: \"))\n",
        "\n",
        "root = cubic_roots(a, b, c, d)\n",
        "print(\"Root of the cubic equation:\", root)\n"
      ]
    },
    {
      "cell_type": "markdown",
      "id": "d20464be-e58c-4313-a150-4b7ee7107c2d",
      "metadata": {
        "id": "d20464be-e58c-4313-a150-4b7ee7107c2d"
      },
      "source": [
        "Advanced Level:\n",
        "\n",
        "\n",
        "\n",
        "21. Create a program that calculates the income tax based on the user's income and tax brackets"
      ]
    },
    {
      "cell_type": "code",
      "execution_count": null,
      "id": "2777ca1f-e7ef-4881-be86-b2268a6c255f",
      "metadata": {
        "id": "2777ca1f-e7ef-4881-be86-b2268a6c255f",
        "outputId": "ce3966cf-b605-47fc-cfac-7e1cf84e63b6"
      },
      "outputs": [
        {
          "name": "stdin",
          "output_type": "stream",
          "text": [
            "Enter your income:  350000\n"
          ]
        },
        {
          "name": "stdout",
          "output_type": "stream",
          "text": [
            "Income tax: 114567.0\n"
          ]
        }
      ],
      "source": [
        "income = float(input(\"Enter your income: \"))\n",
        "\n",
        "if income <= 18200:\n",
        "    tax = 0\n",
        "elif 18201 <= income <= 45000:\n",
        "    tax = 0.19 * (income - 18200)\n",
        "elif 45001 <= income <= 120000:\n",
        "    tax = 5092 + 0.325 * (income - 45000)\n",
        "else:\n",
        "    tax = 29467 + 0.37 * (income - 120000)\n",
        "\n",
        "print(\"Income tax:\", tax)\n"
      ]
    },
    {
      "cell_type": "markdown",
      "id": "229dcead-ef45-41c6-85e1-9561b4bf2a0c",
      "metadata": {
        "id": "229dcead-ef45-41c6-85e1-9561b4bf2a0c"
      },
      "source": [
        "22. Write a program that simulates a rock-paper-scissors game against the computer"
      ]
    },
    {
      "cell_type": "code",
      "execution_count": null,
      "id": "a9d71e9f-19b3-44e5-b9e6-3dcdc7b67376",
      "metadata": {
        "id": "a9d71e9f-19b3-44e5-b9e6-3dcdc7b67376",
        "outputId": "b07473c4-d8b8-4294-812e-672ef08dece3"
      },
      "outputs": [
        {
          "name": "stdin",
          "output_type": "stream",
          "text": [
            "Enter your choice (rock/paper/scissors):  rock\n"
          ]
        },
        {
          "name": "stdout",
          "output_type": "stream",
          "text": [
            "Computer's choice: scissors\n",
            "You win!\n"
          ]
        }
      ],
      "source": [
        "import random\n",
        "\n",
        "choices = [\"rock\", \"paper\", \"scissors\"]\n",
        "\n",
        "user_choice = input(\"Enter your choice (rock/paper/scissors): \").lower()\n",
        "computer_choice = random.choice(choices)\n",
        "\n",
        "print(\"Computer's choice:\", computer_choice)\n",
        "\n",
        "if user_choice == computer_choice:\n",
        "    print(\"It's a tie!\")\n",
        "elif (\n",
        "    (user_choice == \"rock\" and computer_choice == \"scissors\") or\n",
        "    (user_choice == \"paper\" and computer_choice == \"rock\") or\n",
        "    (user_choice == \"scissors\" and computer_choice == \"paper\")\n",
        "):\n",
        "    print(\"You win!\")\n",
        "else:\n",
        "    print(\"Computer wins!\")\n"
      ]
    },
    {
      "cell_type": "markdown",
      "id": "74840f1b-0bfa-45ce-a121-9b70edc7d025",
      "metadata": {
        "id": "74840f1b-0bfa-45ce-a121-9b70edc7d025"
      },
      "source": [
        "23. Develop a program that generates a random password based on user preferences (length, complexity)."
      ]
    },
    {
      "cell_type": "code",
      "execution_count": null,
      "id": "15011677-0ca9-43a2-ab7e-f63d5cc58741",
      "metadata": {
        "id": "15011677-0ca9-43a2-ab7e-f63d5cc58741",
        "outputId": "40b7103d-83f8-4c17-dc37-d60ac95007d0"
      },
      "outputs": [
        {
          "name": "stdin",
          "output_type": "stream",
          "text": [
            "Enter the length of the password:  8\n",
            "Select character types (uppercase/lowercase/digits/special), separated by commas:  special\n"
          ]
        },
        {
          "name": "stdout",
          "output_type": "stream",
          "text": [
            "Generated password: :,?|_(/-\n"
          ]
        }
      ],
      "source": [
        "import random\n",
        "import string\n",
        "\n",
        "def generate_password(length, complexity):\n",
        "    characters = \"\"\n",
        "\n",
        "    if \"uppercase\" in complexity:\n",
        "        characters += string.ascii_uppercase\n",
        "    if \"lowercase\" in complexity:\n",
        "        characters += string.ascii_lowercase\n",
        "    if \"digits\" in complexity:\n",
        "        characters += string.digits\n",
        "    if \"special\" in complexity:\n",
        "        characters += string.punctuation\n",
        "\n",
        "    if len(characters) == 0:\n",
        "        print(\"Please select at least one character type.\")\n",
        "        return None\n",
        "\n",
        "    password = ''.join(random.choice(characters) for _ in range(length))\n",
        "    return password\n",
        "\n",
        "length = int(input(\"Enter the length of the password: \"))\n",
        "complexity = input(\"Select character types (uppercase/lowercase/digits/special), separated by commas: \").split(',')\n",
        "\n",
        "password = generate_password(length, complexity)\n",
        "\n",
        "if password:\n",
        "    print(\"Generated password:\", password)\n"
      ]
    },
    {
      "cell_type": "markdown",
      "id": "a3e7c653-509c-4e7b-916a-368b534d64d0",
      "metadata": {
        "id": "a3e7c653-509c-4e7b-916a-368b534d64d0"
      },
      "source": [
        "24. Create a program that implements a simple text-based adventure game with branching scenarios."
      ]
    },
    {
      "cell_type": "code",
      "execution_count": null,
      "id": "2021ce8b-135c-40a3-a8eb-11af8c97caee",
      "metadata": {
        "id": "2021ce8b-135c-40a3-a8eb-11af8c97caee",
        "outputId": "8d892c44-5c7e-4134-83f8-32fb7ba9a371"
      },
      "outputs": [
        {
          "name": "stdout",
          "output_type": "stream",
          "text": [
            "Welcome to the Text Adventure Game!\n",
            "You find yourself standing in front of a mysterious cave.\n",
            "Do you want to enter the cave? (yes/no)\n"
          ]
        },
        {
          "name": "stdin",
          "output_type": "stream",
          "text": [
            " yes\n"
          ]
        },
        {
          "name": "stdout",
          "output_type": "stream",
          "text": [
            "\n",
            "You enter the cave and discover two paths.\n",
            "1. Take the left path.\n",
            "2. Take the right path.\n"
          ]
        },
        {
          "name": "stdin",
          "output_type": "stream",
          "text": [
            " 2\n"
          ]
        },
        {
          "name": "stdout",
          "output_type": "stream",
          "text": [
            "\n",
            "You take the right path and come face to face with a dragon.\n",
            "1. Try to fight the dragon.\n",
            "2. Attempt to sneak past the dragon.\n"
          ]
        },
        {
          "name": "stdin",
          "output_type": "stream",
          "text": [
            " 2\n"
          ]
        },
        {
          "name": "stdout",
          "output_type": "stream",
          "text": [
            "You manage to sneak past the dragon. You win!\n"
          ]
        }
      ],
      "source": [
        "def start_game():\n",
        "    print(\"Welcome to the Text Adventure Game!\")\n",
        "    print(\"You find yourself standing in front of a mysterious cave.\")\n",
        "    print(\"Do you want to enter the cave? (yes/no)\")\n",
        "\n",
        "    choice = input().lower()\n",
        "\n",
        "    if choice == \"yes\":\n",
        "        cave_scenario()\n",
        "    elif choice == \"no\":\n",
        "        print(\"You decide not to enter the cave. Game over!\")\n",
        "    else:\n",
        "        print(\"Invalid choice. Please enter 'yes' or 'no'.\")\n",
        "        start_game()\n",
        "\n",
        "def cave_scenario():\n",
        "    print(\"\\nYou enter the cave and discover two paths.\")\n",
        "    print(\"1. Take the left path.\")\n",
        "    print(\"2. Take the right path.\")\n",
        "\n",
        "    choice = input()\n",
        "\n",
        "    if choice == \"1\":\n",
        "        left_path_scenario()\n",
        "    elif choice == \"2\":\n",
        "        right_path_scenario()\n",
        "    else:\n",
        "        print(\"Invalid choice. Please enter '1' or '2'.\")\n",
        "        cave_scenario()\n",
        "\n",
        "def left_path_scenario():\n",
        "    print(\"\\nYou follow the left path and encounter a friendly wizard.\")\n",
        "    print(\"He offers you a magic potion.\")\n",
        "    print(\"Do you want to drink the potion? (yes/no)\")\n",
        "\n",
        "    choice = input().lower()\n",
        "\n",
        "    if choice == \"yes\":\n",
        "        print(\"Congratulations! The potion gives you superpowers. You win!\")\n",
        "    elif choice == \"no\":\n",
        "        print(\"You decline the potion. The wizard helps you find your way out. You win!\")\n",
        "    else:\n",
        "        print(\"Invalid choice. Please enter 'yes' or 'no'.\")\n",
        "        left_path_scenario()\n",
        "\n",
        "def right_path_scenario():\n",
        "    print(\"\\nYou take the right path and come face to face with a dragon.\")\n",
        "    print(\"1. Try to fight the dragon.\")\n",
        "    print(\"2. Attempt to sneak past the dragon.\")\n",
        "\n",
        "    choice = input()\n",
        "\n",
        "    if choice == \"1\":\n",
        "        print(\"The dragon is too powerful. You lose!\")\n",
        "    elif choice == \"2\":\n",
        "        print(\"You manage to sneak past the dragon. You win!\")\n",
        "    else:\n",
        "        print(\"Invalid choice. Please enter '1' or '2'.\")\n",
        "        right_path_scenario()\n",
        "\n",
        "# Start the game\n",
        "start_game()\n"
      ]
    },
    {
      "cell_type": "markdown",
      "id": "adde8a12-ba91-48b8-bcc4-916a7bd83146",
      "metadata": {
        "id": "adde8a12-ba91-48b8-bcc4-916a7bd83146"
      },
      "source": [
        "25. Build a program that solves a linear equation  for x, considering different cases."
      ]
    },
    {
      "cell_type": "code",
      "execution_count": null,
      "id": "f1f5ba78-1ff0-4d7d-bc1c-a07687e235a8",
      "metadata": {
        "id": "f1f5ba78-1ff0-4d7d-bc1c-a07687e235a8",
        "outputId": "c35952fc-eea5-4b0a-c0e4-0288ccca2b85"
      },
      "outputs": [
        {
          "name": "stdin",
          "output_type": "stream",
          "text": [
            "Enter the coefficient 'a':  1\n",
            "Enter the coefficient 'b':  5\n"
          ]
        },
        {
          "name": "stdout",
          "output_type": "stream",
          "text": [
            "The solution for the linear equation 1.0x + 5.0 = 0 is x = -5.0\n"
          ]
        }
      ],
      "source": [
        "def solve_linear_equation(a, b):\n",
        "    if a == 0:\n",
        "        if b == 0:\n",
        "            print(\"Infinite solutions (all real numbers are solutions)\")\n",
        "        else:\n",
        "            print(\"No solution (contradiction)\")\n",
        "    else:\n",
        "        x = -b / a\n",
        "        print(f\"The solution for the linear equation {a}x + {b} = 0 is x = {x}\")\n",
        "\n",
        "\n",
        "a_coefficient = float(input(\"Enter the coefficient 'a': \"))\n",
        "b_coefficient = float(input(\"Enter the coefficient 'b': \"))\n",
        "\n",
        "solve_linear_equation(a_coefficient, b_coefficient)\n"
      ]
    },
    {
      "cell_type": "markdown",
      "id": "121adb9a-a024-46df-baa2-94f9d266dc44",
      "metadata": {
        "id": "121adb9a-a024-46df-baa2-94f9d266dc44"
      },
      "source": [
        "26. Write a program that simulates a basic quiz game with multiple-choice questions and scoring."
      ]
    },
    {
      "cell_type": "code",
      "execution_count": null,
      "id": "c4693e7c-bbfd-4464-b440-b2bead32b16c",
      "metadata": {
        "id": "c4693e7c-bbfd-4464-b440-b2bead32b16c",
        "outputId": "47844238-61eb-4be5-b4da-dbb79025fa39"
      },
      "outputs": [
        {
          "name": "stdout",
          "output_type": "stream",
          "text": [
            "What is the capital of France?\n",
            "Options:\n",
            "1. Berlin\n",
            "2. Paris\n",
            "3. Madrid\n",
            "4. Rome\n"
          ]
        },
        {
          "name": "stdin",
          "output_type": "stream",
          "text": [
            "Enter the number of your answer:  2\n"
          ]
        },
        {
          "name": "stdout",
          "output_type": "stream",
          "text": [
            "Correct!\n",
            "\n",
            "Which planet is known as the Red Planet?\n",
            "Options:\n",
            "1. Mars\n",
            "2. Venus\n",
            "3. Jupiter\n",
            "4. Saturn\n"
          ]
        },
        {
          "name": "stdin",
          "output_type": "stream",
          "text": [
            "Enter the number of your answer:  1\n"
          ]
        },
        {
          "name": "stdout",
          "output_type": "stream",
          "text": [
            "Correct!\n",
            "\n",
            "What is the largest mammal?\n",
            "Options:\n",
            "1. Elephant\n",
            "2. Blue Whale\n",
            "3. Giraffe\n",
            "4. Kangaroo\n"
          ]
        },
        {
          "name": "stdin",
          "output_type": "stream",
          "text": [
            "Enter the number of your answer:  2\n"
          ]
        },
        {
          "name": "stdout",
          "output_type": "stream",
          "text": [
            "Correct!\n",
            "\n",
            "Quiz completed! Your score: 3/3\n"
          ]
        }
      ],
      "source": [
        "def run_quiz(questions):\n",
        "    score = 0\n",
        "\n",
        "    for question in questions:\n",
        "        print(question['question'])\n",
        "        print(\"Options:\")\n",
        "        for i, option in enumerate(question['options'], start=1):\n",
        "            print(f\"{i}. {option}\")\n",
        "\n",
        "        user_answer = input(\"Enter the number of your answer: \")\n",
        "\n",
        "        try:\n",
        "            user_answer = int(user_answer)\n",
        "            if 1 <= user_answer <= len(question['options']):\n",
        "                if question['answer'] == user_answer:\n",
        "                    print(\"Correct!\\n\")\n",
        "                    score += 1\n",
        "                else:\n",
        "                    print(f\"Wrong! The correct answer is {question['answer']}: {question['options'][question['answer'] - 1]}\\n\")\n",
        "            else:\n",
        "                print(\"Invalid choice. Please enter a valid option.\\n\")\n",
        "        except ValueError:\n",
        "            print(\"Invalid input. Please enter a number.\\n\")\n",
        "\n",
        "    print(f\"Quiz completed! Your score: {score}/{len(questions)}\")\n",
        "\n",
        "# Example quiz data\n",
        "quiz_questions = [\n",
        "    {\n",
        "        'question': 'What is the capital of France?',\n",
        "        'options': ['Berlin', 'Paris', 'Madrid', 'Rome'],\n",
        "        'answer': 2\n",
        "    },\n",
        "    {\n",
        "        'question': 'Which planet is known as the Red Planet?',\n",
        "        'options': ['Mars', 'Venus', 'Jupiter', 'Saturn'],\n",
        "        'answer': 1\n",
        "    },\n",
        "    {\n",
        "        'question': 'What is the largest mammal?',\n",
        "        'options': ['Elephant', 'Blue Whale', 'Giraffe', 'Kangaroo'],\n",
        "        'answer': 2\n",
        "    }\n",
        "]\n",
        "\n",
        "# Run the quiz\n",
        "run_quiz(quiz_questions)\n"
      ]
    },
    {
      "cell_type": "markdown",
      "id": "b6d968b5-0ebb-472f-b4ba-3aa1fae5aac8",
      "metadata": {
        "id": "b6d968b5-0ebb-472f-b4ba-3aa1fae5aac8"
      },
      "source": [
        "27. Develop a program that determines whether a given year is a prime number or not."
      ]
    },
    {
      "cell_type": "code",
      "execution_count": null,
      "id": "82a37a96-feb3-493b-982c-f2048fa5379b",
      "metadata": {
        "id": "82a37a96-feb3-493b-982c-f2048fa5379b",
        "outputId": "90d3dbbf-1a28-4d3e-81fb-eac5287a6d73"
      },
      "outputs": [
        {
          "name": "stdin",
          "output_type": "stream",
          "text": [
            "Enter a year:  2365\n"
          ]
        },
        {
          "name": "stdout",
          "output_type": "stream",
          "text": [
            "2365 is not a prime number.\n"
          ]
        }
      ],
      "source": [
        "def is_prime(year):\n",
        "    if year <= 1:\n",
        "        return False\n",
        "    elif year == 2:\n",
        "        return True\n",
        "    else:\n",
        "        for i in range(2, int(year**0.5) + 1):\n",
        "            if year % i == 0:\n",
        "                return False\n",
        "        return True\n",
        "\n",
        "\n",
        "year = int(input(\"Enter a year: \"))\n",
        "\n",
        "if is_prime(year):\n",
        "    print(f\"{year} is a prime number.\")\n",
        "else:\n",
        "    print(f\"{year} is not a prime number.\")\n"
      ]
    },
    {
      "cell_type": "markdown",
      "id": "5a13347e-0b6e-4a99-857c-41157ac0fa83",
      "metadata": {
        "id": "5a13347e-0b6e-4a99-857c-41157ac0fa83"
      },
      "source": [
        "28. Create a program that sorts three numbers in ascending order using conditional statements."
      ]
    },
    {
      "cell_type": "code",
      "execution_count": null,
      "id": "f0007fca-1078-4d9b-82eb-58432c3ae794",
      "metadata": {
        "id": "f0007fca-1078-4d9b-82eb-58432c3ae794",
        "outputId": "cf471c8a-5057-4624-e13a-ad7e9af2916d"
      },
      "outputs": [
        {
          "name": "stdin",
          "output_type": "stream",
          "text": [
            "Enter the first number:  56\n",
            "Enter the second number:  89\n",
            "Enter the third number:  75\n"
          ]
        },
        {
          "name": "stdout",
          "output_type": "stream",
          "text": [
            "The numbers in ascending order: (56.0, 75.0, 89.0)\n"
          ]
        }
      ],
      "source": [
        "def sort_numbers(num1, num2, num3):\n",
        "    if num1 <= num2 <= num3:\n",
        "        return num1, num2, num3\n",
        "    elif num1 <= num3 <= num2:\n",
        "        return num1, num3, num2\n",
        "    elif num2 <= num1 <= num3:\n",
        "        return num2, num1, num3\n",
        "    elif num2 <= num3 <= num1:\n",
        "        return num2, num3, num1\n",
        "    elif num3 <= num1 <= num2:\n",
        "        return num3, num1, num2\n",
        "    else:\n",
        "        return num3, num2, num1\n",
        "\n",
        "\n",
        "num1 = float(input(\"Enter the first number: \"))\n",
        "num2 = float(input(\"Enter the second number: \"))\n",
        "num3 = float(input(\"Enter the third number: \"))\n",
        "\n",
        "sorted_numbers = sort_numbers(num1, num2, num3)\n",
        "\n",
        "print(f\"The numbers in ascending order: {sorted_numbers}\")\n"
      ]
    },
    {
      "cell_type": "markdown",
      "id": "1b81238e-d283-45aa-a611-695f108a96bf",
      "metadata": {
        "id": "1b81238e-d283-45aa-a611-695f108a96bf"
      },
      "source": [
        "29. Build a program that determines the roots of a quartic equation using numerical methods."
      ]
    },
    {
      "cell_type": "code",
      "execution_count": null,
      "id": "4b8be4c4-a277-4e7a-8e94-d306184493c3",
      "metadata": {
        "id": "4b8be4c4-a277-4e7a-8e94-d306184493c3",
        "outputId": "dd456a71-6bb9-4fe8-c271-eab1dc6dabd5"
      },
      "outputs": [
        {
          "name": "stdin",
          "output_type": "stream",
          "text": [
            "Enter an initial guess for the root:  6\n"
          ]
        },
        {
          "name": "stdout",
          "output_type": "stream",
          "text": [
            "A root of the quartic equation is approximately: 1.0\n"
          ]
        }
      ],
      "source": [
        "def quartic_equation(x, coefficients):\n",
        "    return sum(a * x**i for i, a in enumerate(coefficients))\n",
        "\n",
        "def quartic_derivative(x, coefficients):\n",
        "    return sum(i * a * x**(i - 1) for i, a in enumerate(coefficients[1:], start=1))\n",
        "\n",
        "def newton_method(initial_guess, coefficients, tolerance=1e-6, max_iterations=100):\n",
        "    x = initial_guess\n",
        "\n",
        "    for _ in range(max_iterations):\n",
        "        f_x = quartic_equation(x, coefficients)\n",
        "        f_prime_x = quartic_derivative(x, coefficients)\n",
        "\n",
        "        if abs(f_prime_x) < tolerance:\n",
        "            print(\"Derivative is too small. Newton's method may not converge.\")\n",
        "            return None\n",
        "\n",
        "        x = x - f_x / f_prime_x\n",
        "\n",
        "        if abs(f_x) < tolerance:\n",
        "            return x\n",
        "\n",
        "    print(\"Newton's method did not converge within the specified number of iterations.\")\n",
        "    return None\n",
        "\n",
        "# Example usage:\n",
        "coefficients = [1, -10, 35, -50, 24]  # Example coefficients for the quartic equation x^4 - 10x^3 + 35x^2 - 50x + 24 = 0\n",
        "\n",
        "initial_guess = float(input(\"Enter an initial guess for the root: \"))\n",
        "\n",
        "root = newton_method(initial_guess, coefficients)\n",
        "\n",
        "if root is not None:\n",
        "    print(f\"A root of the quartic equation is approximately: {root}\")\n",
        "else:\n",
        "    print(\"Unable to find a root with the given parameters.\")\n"
      ]
    },
    {
      "cell_type": "markdown",
      "id": "d9b9b754-1c40-4d33-9056-c359b3a38a1c",
      "metadata": {
        "id": "d9b9b754-1c40-4d33-9056-c359b3a38a1c"
      },
      "source": [
        "30. Write a program that calculates the BMI (Body Mass Index) and provides health recommendations based\n",
        "on the user's input."
      ]
    },
    {
      "cell_type": "code",
      "execution_count": null,
      "id": "a5edc514-e06c-488c-a93e-183b819d67ab",
      "metadata": {
        "id": "a5edc514-e06c-488c-a93e-183b819d67ab",
        "outputId": "5d86b0de-662b-4420-ef9c-38683b94a404"
      },
      "outputs": [
        {
          "name": "stdin",
          "output_type": "stream",
          "text": [
            "Enter your weight in kilograms:  60\n",
            "Enter your height in meters:  1.73\n"
          ]
        },
        {
          "name": "stdout",
          "output_type": "stream",
          "text": [
            "Your BMI is: 20.05\n",
            "You are in the category: Normal weight\n",
            "Recommendation: Maintain a balanced diet and regular exercise for overall health.\n"
          ]
        }
      ],
      "source": [
        "def calculate_bmi(weight, height):\n",
        "    bmi = weight / (height ** 2)\n",
        "    return bmi\n",
        "\n",
        "def bmi_category(bmi):\n",
        "    if bmi < 18.5:\n",
        "        return \"Underweight\"\n",
        "    elif 18.5 <= bmi < 25:\n",
        "        return \"Normal weight\"\n",
        "    elif 25 <= bmi < 30:\n",
        "        return \"Overweight\"\n",
        "    else:\n",
        "        return \"Obese\"\n",
        "\n",
        "# Example usage:\n",
        "weight = float(input(\"Enter your weight in kilograms: \"))\n",
        "height = float(input(\"Enter your height in meters: \"))\n",
        "\n",
        "bmi = calculate_bmi(weight, height)\n",
        "category = bmi_category(bmi)\n",
        "\n",
        "print(f\"Your BMI is: {bmi:.2f}\")\n",
        "print(f\"You are in the category: {category}\")\n",
        "\n",
        "# Health recommendations\n",
        "if category == \"Underweight\":\n",
        "    print(\"Recommendation: Consider consulting with a healthcare professional for guidance.\")\n",
        "elif category == \"Normal weight\":\n",
        "    print(\"Recommendation: Maintain a balanced diet and regular exercise for overall health.\")\n",
        "elif category == \"Overweight\":\n",
        "    print(\"Recommendation: Consider incorporating more physical activity and adopting a healthier diet.\")\n",
        "else:\n",
        "    print(\"Recommendation: Consult with a healthcare professional to discuss a weight management plan.\")\n"
      ]
    },
    {
      "cell_type": "markdown",
      "id": "80ae0070-8d98-4ea0-bdd2-7770bf3f669f",
      "metadata": {
        "id": "80ae0070-8d98-4ea0-bdd2-7770bf3f669f"
      },
      "source": [
        "Challenge Level:\n",
        "\n",
        "\n",
        "\n",
        "31. Create a program that validates a password based on complexity rules (length, characters, etc.)."
      ]
    },
    {
      "cell_type": "code",
      "execution_count": null,
      "id": "4e0c61d1-3f28-4754-8c08-714695ce4e47",
      "metadata": {
        "id": "4e0c61d1-3f28-4754-8c08-714695ce4e47",
        "outputId": "532de8ed-a50a-4106-e43b-35205ea7b716"
      },
      "outputs": [
        {
          "name": "stdin",
          "output_type": "stream",
          "text": [
            "Enter your password:  Pass@123\n"
          ]
        },
        {
          "name": "stdout",
          "output_type": "stream",
          "text": [
            "Password is valid!\n"
          ]
        }
      ],
      "source": [
        "password = input(\"Enter your password: \")\n",
        "\n",
        "if len(password) < 8:\n",
        "    print(\"Password is too short. Minimum length is 8 characters.\")\n",
        "else:\n",
        "    if not any(char.isupper() for char in password):\n",
        "        print(\"Password must contain at least one uppercase letter.\")\n",
        "    else:\n",
        "        if not any(char.islower() for char in password):\n",
        "            print(\"Password must contain at least one lowercase letter.\")\n",
        "        else:\n",
        "            if not any(char.isdigit() for char in password):\n",
        "                print(\"Password must contain at least one digit.\")\n",
        "            else:\n",
        "                special_characters = \"!@#$%^&*()-_+=<>?/\"\n",
        "                if not any(char in special_characters for char in password):\n",
        "                    print(\"Password must contain at least one special character.\")\n",
        "                else:\n",
        "                    print(\"Password is valid!\")\n"
      ]
    },
    {
      "cell_type": "markdown",
      "id": "bc45cde6-57e4-4e8c-9d96-ac82f5da2056",
      "metadata": {
        "id": "bc45cde6-57e4-4e8c-9d96-ac82f5da2056"
      },
      "source": [
        "32. Develop a program that performs matrix addition and subtraction based on user input."
      ]
    },
    {
      "cell_type": "code",
      "execution_count": 1,
      "id": "3df1fda5-a0be-48b2-a9b9-b96def7921b5",
      "metadata": {
        "colab": {
          "base_uri": "https://localhost:8080/"
        },
        "id": "3df1fda5-a0be-48b2-a9b9-b96def7921b5",
        "outputId": "377da31f-a24c-4b9d-badf-5fea8760075f"
      },
      "outputs": [
        {
          "output_type": "stream",
          "name": "stdout",
          "text": [
            "Enter the number of rows: 2\n",
            "Enter the number of columns: 2\n",
            "Enter elements for the first matrix:\n",
            "2\n",
            "3\n",
            "4\n",
            "5\n",
            "Enter elements for the second matrix:\n",
            "2\n",
            "3\n",
            "4\n",
            "5\n",
            "Enter operation (+ for addition, - for subtraction): +\n",
            "Matrix Addition Result:\n",
            "[4, 6]\n",
            "[8, 10]\n"
          ]
        }
      ],
      "source": [
        "rows = int(input(\"Enter the number of rows: \"))\n",
        "cols = int(input(\"Enter the number of columns: \"))\n",
        "\n",
        "matrix1 = []\n",
        "matrix2 = []\n",
        "\n",
        "print(\"Enter elements for the first matrix:\")\n",
        "for i in range(rows):\n",
        "    row = [int(input()) for _ in range(cols)]\n",
        "    matrix1.append(row)\n",
        "\n",
        "print(\"Enter elements for the second matrix:\")\n",
        "for i in range(rows):\n",
        "    row = [int(input()) for _ in range(cols)]\n",
        "    matrix2.append(row)\n",
        "\n",
        "operation = input(\"Enter operation (+ for addition, - for subtraction): \")\n",
        "\n",
        "if operation == '+':\n",
        "    result_matrix = [[matrix1[i][j] + matrix2[i][j] for j in range(cols)] for i in range(rows)]\n",
        "    print(\"Matrix Addition Result:\")\n",
        "    for row in result_matrix:\n",
        "        print(row)\n",
        "elif operation == '-':\n",
        "    result_matrix = [[matrix1[i][j] - matrix2[i][j] for j in range(cols)] for i in range(rows)]\n",
        "    print(\"Matrix Subtraction Result:\")\n",
        "    for row in result_matrix:\n",
        "        print(row)\n",
        "else:\n",
        "    print(\"Invalid operation. Please enter '+' for addition or '-' for subtraction.\")"
      ]
    },
    {
      "cell_type": "markdown",
      "source": [],
      "metadata": {
        "id": "ifW9DsW8cs_V"
      },
      "id": "ifW9DsW8cs_V"
    },
    {
      "cell_type": "markdown",
      "source": [
        "33. Write a program that calculates the greatest common divisor (GCD) of two numbers using the Euclidean\n",
        "algorithm."
      ],
      "metadata": {
        "id": "XtvLaSJjctAj"
      },
      "id": "XtvLaSJjctAj"
    },
    {
      "cell_type": "code",
      "source": [
        "# Get user input for two numbers\n",
        "num1 = int(input(\"Enter the first number: \"))\n",
        "num2 = int(input(\"Enter the second number: \"))\n",
        "\n",
        "if num1 < num2:\n",
        "    num1, num2 = num2, num1\n",
        "\n",
        "while num2 != 0:\n",
        "    temp = num2\n",
        "    num2 = num1 % num2\n",
        "    num1 = temp\n",
        "gcd = num1\n",
        "\n",
        "print(f\"The GCD of the two numbers is: {gcd}\")\n"
      ],
      "metadata": {
        "colab": {
          "base_uri": "https://localhost:8080/"
        },
        "id": "Cv5Quv8-cusv",
        "outputId": "0b018a98-a08b-494c-8920-3a3b8ec6f5f0"
      },
      "id": "Cv5Quv8-cusv",
      "execution_count": 3,
      "outputs": [
        {
          "output_type": "stream",
          "name": "stdout",
          "text": [
            "Enter the first number: 3\n",
            "Enter the second number: 9\n",
            "The GCD of the two numbers is: 3\n"
          ]
        }
      ]
    },
    {
      "cell_type": "code",
      "source": [],
      "metadata": {
        "id": "jYAtlF83c-L8"
      },
      "id": "jYAtlF83c-L8",
      "execution_count": null,
      "outputs": []
    },
    {
      "cell_type": "markdown",
      "source": [
        "34. Build a program that performs matrix multiplication using nested loops and conditional statements."
      ],
      "metadata": {
        "id": "5XqVhLq2dGs0"
      },
      "id": "5XqVhLq2dGs0"
    },
    {
      "cell_type": "code",
      "source": [
        "rows1 = int(input(\"Enter the number of rows for the first matrix: \"))\n",
        "cols1 = int(input(\"Enter the number of columns for the first matrix: \"))\n",
        "rows2 = int(input(\"Enter the number of rows for the second matrix: \"))\n",
        "cols2 = int(input(\"Enter the number of columns for the second matrix: \"))\n",
        "\n",
        "if cols1 != rows2:\n",
        "    print(\"Matrices cannot be multiplied. Number of columns in the first matrix must be equal to the number of rows in the second matrix.\")\n",
        "else:\n",
        "    matrix1 = []\n",
        "    print(\"Enter elements for the first matrix:\")\n",
        "    for i in range(rows1):\n",
        "        row = [int(input()) for _ in range(cols1)]\n",
        "        matrix1.append(row)\n",
        "\n",
        "    matrix2 = []\n",
        "    print(\"Enter elements for the second matrix:\")\n",
        "    for i in range(rows2):\n",
        "        row = [int(input()) for _ in range(cols2)]\n",
        "        matrix2.append(row)\n",
        "\n",
        "    result_matrix = [[0 for _ in range(cols2)] for _ in range(rows1)]\n",
        "\n",
        "    for i in range(rows1):\n",
        "        for j in range(cols2):\n",
        "            for k in range(cols1):\n",
        "                result_matrix[i][j] += matrix1[i][k] * matrix2[k][j]\n",
        "\n",
        "    print(\"Matrix Multiplication Result:\")\n",
        "    for row in result_matrix:\n",
        "        print(row)\n"
      ],
      "metadata": {
        "colab": {
          "base_uri": "https://localhost:8080/"
        },
        "id": "vaHRzLZqdH2T",
        "outputId": "dca6621f-15b7-45dd-cdf8-4e1a640a6513"
      },
      "id": "vaHRzLZqdH2T",
      "execution_count": 4,
      "outputs": [
        {
          "output_type": "stream",
          "name": "stdout",
          "text": [
            "Enter the number of rows for the first matrix: 2\n",
            "Enter the number of columns for the first matrix: 2\n",
            "Enter the number of rows for the second matrix: 3\n",
            "Enter the number of columns for the second matrix: 3\n",
            "Matrices cannot be multiplied. Number of columns in the first matrix must be equal to the number of rows in the second matrix.\n"
          ]
        }
      ]
    },
    {
      "cell_type": "markdown",
      "source": [
        "35. Create a program that simulates a basic text-based tic-tac-toe game against the computer."
      ],
      "metadata": {
        "id": "p6rUFvUvdpY-"
      },
      "id": "p6rUFvUvdpY-"
    },
    {
      "cell_type": "code",
      "source": [
        "import random\n",
        "\n",
        "def print_board(board):\n",
        "    for row in board:\n",
        "        print(\" | \".join(row))\n",
        "        print(\"-\" * 17)\n",
        "\n",
        "def check_winner(board, player):\n",
        "    # Check rows\n",
        "    for row in board:\n",
        "        if all(cell == player for cell in row):\n",
        "            return True\n",
        "\n",
        "    # Check columns\n",
        "    for col in range(3):\n",
        "        if all(row[col] == player for row in board):\n",
        "            return True\n",
        "\n",
        "    # Check diagonals\n",
        "    if all(board[i][i] == player for i in range(3)) or all(board[i][2 - i] == player for i in range(3)):\n",
        "        return True\n",
        "\n",
        "    return False\n",
        "\n",
        "def is_board_full(board):\n",
        "    return all(all(cell != ' ' for cell in row) for row in board)\n",
        "\n",
        "def computer_move(board):\n",
        "    empty_cells = [(i, j) for i in range(3) for j in range(3) if board[i][j] == ' ']\n",
        "    return random.choice(empty_cells)\n",
        "\n",
        "# Initialize the board\n",
        "board = [[' ' for _ in range(3)] for _ in range(3)]\n",
        "\n",
        "# Main game loop\n",
        "player_symbol = 'X'\n",
        "computer_symbol = 'O'\n",
        "\n",
        "while True:\n",
        "    # Player's move\n",
        "    print_board(board)\n",
        "    row = int(input(\"Enter row (0, 1, or 2): \"))\n",
        "    col = int(input(\"Enter column (0, 1, or 2): \"))\n",
        "\n",
        "    if board[row][col] == ' ':\n",
        "        board[row][col] = player_symbol\n",
        "    else:\n",
        "        print(\"Cell already occupied. Try again.\")\n",
        "        continue\n",
        "\n",
        "    # Check if the player wins\n",
        "    if check_winner(board, player_symbol):\n",
        "        print_board(board)\n",
        "        print(\"Congratulations! You win!\")\n",
        "        break\n",
        "\n",
        "    # Check if the board is full (a tie)\n",
        "    if is_board_full(board):\n",
        "        print_board(board)\n",
        "        print(\"It's a tie!\")\n",
        "        break\n",
        "\n",
        "    # Computer's move\n",
        "    print(\"Computer's move:\")\n",
        "    computer_row, computer_col = computer_move(board)\n",
        "    board[computer_row][computer_col] = computer_symbol\n",
        "\n",
        "    # Check if the computer wins\n",
        "    if check_winner(board, computer_symbol):\n",
        "        print_board(board)\n",
        "        print(\"Computer wins! Better luck next time.\")\n",
        "        break\n",
        "\n",
        "    # Check if the board is full (a tie)\n",
        "    if is_board_full(board):\n",
        "        print_board(board)\n",
        "        print(\"It's a tie!\")\n",
        "        break\n"
      ],
      "metadata": {
        "colab": {
          "base_uri": "https://localhost:8080/"
        },
        "id": "8AK4fuxddq1z",
        "outputId": "6708df8e-d8d5-4a36-db6e-864ad6d05b6d"
      },
      "id": "8AK4fuxddq1z",
      "execution_count": 6,
      "outputs": [
        {
          "output_type": "stream",
          "name": "stdout",
          "text": [
            "  |   |  \n",
            "-----------------\n",
            "  |   |  \n",
            "-----------------\n",
            "  |   |  \n",
            "-----------------\n",
            "Enter row (0, 1, or 2): 1\n",
            "Enter column (0, 1, or 2): 1\n",
            "Computer's move:\n",
            "  |   |  \n",
            "-----------------\n",
            "  | X |  \n",
            "-----------------\n",
            "  |   | O\n",
            "-----------------\n",
            "Enter row (0, 1, or 2): 0\n",
            "Enter column (0, 1, or 2): 0\n",
            "Computer's move:\n",
            "X |   |  \n",
            "-----------------\n",
            "  | X |  \n",
            "-----------------\n",
            "  | O | O\n",
            "-----------------\n",
            "Enter row (0, 1, or 2): 2\n",
            "Enter column (0, 1, or 2): 0\n",
            "Computer's move:\n",
            "X |   | O\n",
            "-----------------\n",
            "  | X |  \n",
            "-----------------\n",
            "X | O | O\n",
            "-----------------\n",
            "Enter row (0, 1, or 2): 1\n",
            "Enter column (0, 1, or 2): 2\n",
            "Computer's move:\n",
            "X |   | O\n",
            "-----------------\n",
            "O | X | X\n",
            "-----------------\n",
            "X | O | O\n",
            "-----------------\n",
            "Enter row (0, 1, or 2): 0\n",
            "Enter column (0, 1, or 2): 1\n",
            "X | X | O\n",
            "-----------------\n",
            "O | X | X\n",
            "-----------------\n",
            "X | O | O\n",
            "-----------------\n",
            "It's a tie!\n"
          ]
        }
      ]
    },
    {
      "cell_type": "markdown",
      "source": [
        "36. Write a program that generates Fibonacci numbers up to a specified term using iterative methods."
      ],
      "metadata": {
        "id": "qDV5pWZeegm-"
      },
      "id": "qDV5pWZeegm-"
    },
    {
      "cell_type": "code",
      "source": [
        "num_terms = int(input(\"Enter the number of Fibonacci terms to generate: \"))\n",
        "\n",
        "\n",
        "first_term = 0\n",
        "second_term = 1\n",
        "\n",
        "\n",
        "print(\"Fibonacci Sequence:\")\n",
        "print(first_term)\n",
        "print(second_term)\n",
        "\n",
        "\n",
        "for _ in range(num_terms - 2):\n",
        "    next_term = first_term + second_term\n",
        "    print(next_term)\n",
        "\n",
        "\n",
        "    first_term = second_term\n",
        "    second_term = next_term\n"
      ],
      "metadata": {
        "colab": {
          "base_uri": "https://localhost:8080/"
        },
        "id": "opGpveaRehV8",
        "outputId": "1344d0b8-361a-43f2-b194-9af1b83d53f8"
      },
      "id": "opGpveaRehV8",
      "execution_count": 7,
      "outputs": [
        {
          "output_type": "stream",
          "name": "stdout",
          "text": [
            "Enter the number of Fibonacci terms to generate: 6\n",
            "Fibonacci Sequence:\n",
            "0\n",
            "1\n",
            "1\n",
            "2\n",
            "3\n",
            "5\n"
          ]
        }
      ]
    },
    {
      "cell_type": "code",
      "source": [],
      "metadata": {
        "id": "HTEntFoSezZF"
      },
      "id": "HTEntFoSezZF",
      "execution_count": null,
      "outputs": []
    },
    {
      "cell_type": "markdown",
      "source": [
        "37. Develop a program that calculates the nth term of the Fibonacci sequence using memoization."
      ],
      "metadata": {
        "id": "Gh5x6bIQfBU1"
      },
      "id": "Gh5x6bIQfBU1"
    },
    {
      "cell_type": "code",
      "source": [
        "\n",
        "n = int(input(\"Enter the value of n for the nth term of the Fibonacci sequence: \"))\n",
        "\n",
        "\n",
        "first_term = 0\n",
        "second_term = 1\n",
        "\n",
        "\n",
        "if n == 0:\n",
        "    result = first_term\n",
        "elif n == 1:\n",
        "    result = second_term\n",
        "else:\n",
        "    for _ in range(2, n + 1):\n",
        "        result = first_term + second_term\n",
        "        first_term, second_term = second_term, result\n",
        "\n",
        "print(f\"The {n}th term of the Fibonacci sequence is: {result}\")\n"
      ],
      "metadata": {
        "colab": {
          "base_uri": "https://localhost:8080/"
        },
        "id": "YUVRP1gtfGhM",
        "outputId": "f7faa011-5649-4e7b-992b-9595623a971d"
      },
      "id": "YUVRP1gtfGhM",
      "execution_count": 8,
      "outputs": [
        {
          "output_type": "stream",
          "name": "stdout",
          "text": [
            "Enter the value of n for the nth term of the Fibonacci sequence: 6\n",
            "The 6th term of the Fibonacci sequence is: 8\n"
          ]
        }
      ]
    },
    {
      "cell_type": "markdown",
      "source": [
        "38. Create a program that generates a calendar for a given month and year using conditional statements."
      ],
      "metadata": {
        "id": "XqlUisa6fbvV"
      },
      "id": "XqlUisa6fbvV"
    },
    {
      "cell_type": "code",
      "source": [
        "year = int(input(\"Enter the year: \"))\n",
        "month = int(input(\"Enter the month (1-12): \"))\n",
        "\n",
        "if month in {1, 3, 5, 7, 8, 10, 12}:\n",
        "    num_days = 31\n",
        "elif month in {4, 6, 9, 11}:\n",
        "    num_days = 30\n",
        "elif month == 2:\n",
        "    if (year % 4 == 0 and year % 100 != 0) or (year % 400 == 0):\n",
        "        num_days = 29\n",
        "    else:\n",
        "        num_days = 28\n",
        "else:\n",
        "    print(\"Invalid month. Please enter a month between 1 and 12.\")\n",
        "    exit()\n",
        "\n",
        "print(\"\\nCalendar:\")\n",
        "print(\" Mo Tu We Th Fr Sa Su\")\n",
        "print(\"---------------------\")\n",
        "\n",
        "if month < 3:\n",
        "    month += 12\n",
        "    year -= 1\n",
        "K = year % 100\n",
        "J = year // 100\n",
        "day_of_week = (1 + ((13 * (month + 1)) // 5) + K + (K // 4) + (J // 4) - 2 * J) % 7\n",
        "\n",
        "current_day = 1\n",
        "for i in range(6):\n",
        "    for j in range(7):\n",
        "        if i == 0 and j < day_of_week:\n",
        "            print(\"   \", end=\" \")\n",
        "        elif current_day <= num_days:\n",
        "            print(f\"{current_day:2d}\", end=\" \")\n",
        "            current_day += 1\n",
        "        else:\n",
        "            break\n",
        "    print()\n",
        "\n",
        "\n",
        "print()\n"
      ],
      "metadata": {
        "colab": {
          "base_uri": "https://localhost:8080/"
        },
        "id": "MwEd8vZufcmb",
        "outputId": "356b71a6-4df7-4714-be01-2475555187a2"
      },
      "id": "MwEd8vZufcmb",
      "execution_count": 9,
      "outputs": [
        {
          "output_type": "stream",
          "name": "stdout",
          "text": [
            "Enter the year: 2000\n",
            "Enter the month (1-12): 12\n",
            "\n",
            "Calendar:\n",
            " Mo Tu We Th Fr Sa Su\n",
            "---------------------\n",
            "                         1 \n",
            " 2  3  4  5  6  7  8 \n",
            " 9 10 11 12 13 14 15 \n",
            "16 17 18 19 20 21 22 \n",
            "23 24 25 26 27 28 29 \n",
            "30 31 \n",
            "\n"
          ]
        }
      ]
    },
    {
      "cell_type": "markdown",
      "source": [
        "39. Build a program that simulates a basic text-based blackjack game against the computer."
      ],
      "metadata": {
        "id": "drnHXkD1f2GG"
      },
      "id": "drnHXkD1f2GG"
    },
    {
      "cell_type": "code",
      "source": [
        "import random\n",
        "\n",
        "def calculate_score(cards):\n",
        "\n",
        "    score = sum(cards)\n",
        "    if 11 in cards and score > 21:\n",
        "        cards.remove(11)\n",
        "        cards.append(1)\n",
        "    return score\n",
        "\n",
        "def blackjack():\n",
        "\n",
        "    deck = [2, 3, 4, 5, 6, 7, 8, 9, 10, 10, 10, 10, 11] * 4\n",
        "\n",
        "\n",
        "    player_cards = [random.choice(deck) for _ in range(2)]\n",
        "    computer_cards = [random.choice(deck) for _ in range(2)]\n",
        "\n",
        "    player_score = calculate_score(player_cards)\n",
        "    computer_score = calculate_score(computer_cards)\n",
        "\n",
        "    game_over = False\n",
        "\n",
        "    while not game_over:\n",
        "        print(f\"Your cards: {player_cards}, current score: {player_score}\")\n",
        "        print(f\"Computer's first card: {computer_cards[0]}\")\n",
        "\n",
        "\n",
        "        if player_score == 21 or computer_score == 21:\n",
        "            game_over = True\n",
        "        else:\n",
        "\n",
        "            draw_card = input(\"Type 'y' to get another card, 'n' to pass: \").lower()\n",
        "            if draw_card == 'y':\n",
        "                player_cards.append(random.choice(deck))\n",
        "                player_score = calculate_score(player_cards)\n",
        "\n",
        "\n",
        "                if player_score > 21:\n",
        "                    game_over = True\n",
        "            else:\n",
        "\n",
        "                while computer_score < 17:\n",
        "                    computer_cards.append(random.choice(deck))\n",
        "                    computer_score = calculate_score(computer_cards)\n",
        "\n",
        "                game_over = True\n",
        "\n",
        "\n",
        "    print(f\"Your final hand: {player_cards}, final score: {player_score}\")\n",
        "    print(f\"Computer's final hand: {computer_cards}, final score: {computer_score}\")\n",
        "\n",
        "\n",
        "    if player_score == computer_score == 21:\n",
        "        print(\"It's a draw! Blackjack!\")\n",
        "    elif player_score == 21:\n",
        "        print(\"You win! Blackjack!\")\n",
        "    elif computer_score == 21:\n",
        "        print(\"Computer wins! Blackjack!\")\n",
        "    elif player_score > 21:\n",
        "        print(\"You went over 21. You lose!\")\n",
        "    elif computer_score > 21:\n",
        "        print(\"Computer went over 21. You win!\")\n",
        "    elif player_score > computer_score:\n",
        "        print(\"You win!\")\n",
        "    else:\n",
        "        print(\"Computer wins!\")\n",
        "\n",
        "\n",
        "blackjack()\n"
      ],
      "metadata": {
        "colab": {
          "base_uri": "https://localhost:8080/"
        },
        "id": "3_nMpSbzf4mU",
        "outputId": "4591f5a2-1609-4710-8110-5902a7addd05"
      },
      "id": "3_nMpSbzf4mU",
      "execution_count": 10,
      "outputs": [
        {
          "output_type": "stream",
          "name": "stdout",
          "text": [
            "Your cards: [10, 9], current score: 19\n",
            "Computer's first card: 10\n",
            "Type 'y' to get another card, 'n' to pass: y\n",
            "Your final hand: [10, 9, 3], final score: 22\n",
            "Computer's final hand: [10, 8], final score: 18\n",
            "You went over 21. You lose!\n"
          ]
        }
      ]
    },
    {
      "cell_type": "markdown",
      "source": [
        "40. Write a program that generates the prime factors of a given number using trial division."
      ],
      "metadata": {
        "id": "cH5m7u26ikI-"
      },
      "id": "cH5m7u26ikI-"
    },
    {
      "cell_type": "code",
      "source": [
        "num = int(input(\"Enter a number to find its prime factors: \"))\n",
        "prime_factors = []\n",
        "factor = 2\n",
        "while factor <= num:\n",
        "    if num % factor == 0:\n",
        "        prime_factors.append(factor)\n",
        "        num //= factor\n",
        "    else:\n",
        "        factor += 1\n",
        "if len(prime_factors) == 0:\n",
        "    print(f\"{num} is a prime number.\")\n",
        "else:\n",
        "    print(f\"Prime factors of the given number are: {prime_factors}\")"
      ],
      "metadata": {
        "colab": {
          "base_uri": "https://localhost:8080/"
        },
        "id": "wZmNwjl2ilBM",
        "outputId": "d5ffbd03-34ab-4227-e683-48f0302525da"
      },
      "id": "wZmNwjl2ilBM",
      "execution_count": 11,
      "outputs": [
        {
          "output_type": "stream",
          "name": "stdout",
          "text": [
            "Enter a number to find its prime factors: 85\n",
            "Prime factors of the given number are: [5, 17]\n"
          ]
        }
      ]
    },
    {
      "cell_type": "code",
      "source": [],
      "metadata": {
        "id": "NJC_28JAiwFl"
      },
      "id": "NJC_28JAiwFl",
      "execution_count": null,
      "outputs": []
    }
  ],
  "metadata": {
    "kernelspec": {
      "display_name": "Python 3 (ipykernel)",
      "language": "python",
      "name": "python3"
    },
    "language_info": {
      "codemirror_mode": {
        "name": "ipython",
        "version": 3
      },
      "file_extension": ".py",
      "mimetype": "text/x-python",
      "name": "python",
      "nbconvert_exporter": "python",
      "pygments_lexer": "ipython3",
      "version": "3.10.8"
    },
    "colab": {
      "provenance": []
    }
  },
  "nbformat": 4,
  "nbformat_minor": 5
}